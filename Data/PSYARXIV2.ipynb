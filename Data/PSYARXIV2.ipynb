{
  "nbformat": 4,
  "nbformat_minor": 0,
  "metadata": {
    "colab": {
      "provenance": []
    },
    "kernelspec": {
      "name": "python3",
      "display_name": "Python 3"
    },
    "language_info": {
      "name": "python"
    }
  },
  "cells": [
    {
      "cell_type": "code",
      "execution_count": null,
      "metadata": {
        "id": "uG3fyuVj6K8B"
      },
      "outputs": [],
      "source": [
        "! pip install -q kaggle\n",
        "from google.colab import files\n",
        "\n"
      ]
    },
    {
      "cell_type": "code",
      "source": [
        "# choose the kaggle.json file that you downloaded\n",
        "files.upload()\n",
        "! mkdir ~/.kaggle\n",
        "\n"
      ],
      "metadata": {
        "colab": {
          "base_uri": "https://localhost:8080/",
          "height": 73
        },
        "id": "TTFQFvwyhsAO",
        "outputId": "9e6de207-35ee-4f5a-eb0a-d6723abdd539"
      },
      "execution_count": null,
      "outputs": [
        {
          "output_type": "display_data",
          "data": {
            "text/plain": [
              "<IPython.core.display.HTML object>"
            ],
            "text/html": [
              "\n",
              "     <input type=\"file\" id=\"files-168afe91-db00-42bd-abfe-e1140a618c0a\" name=\"files[]\" multiple disabled\n",
              "        style=\"border:none\" />\n",
              "     <output id=\"result-168afe91-db00-42bd-abfe-e1140a618c0a\">\n",
              "      Upload widget is only available when the cell has been executed in the\n",
              "      current browser session. Please rerun this cell to enable.\n",
              "      </output>\n",
              "      <script>// Copyright 2017 Google LLC\n",
              "//\n",
              "// Licensed under the Apache License, Version 2.0 (the \"License\");\n",
              "// you may not use this file except in compliance with the License.\n",
              "// You may obtain a copy of the License at\n",
              "//\n",
              "//      http://www.apache.org/licenses/LICENSE-2.0\n",
              "//\n",
              "// Unless required by applicable law or agreed to in writing, software\n",
              "// distributed under the License is distributed on an \"AS IS\" BASIS,\n",
              "// WITHOUT WARRANTIES OR CONDITIONS OF ANY KIND, either express or implied.\n",
              "// See the License for the specific language governing permissions and\n",
              "// limitations under the License.\n",
              "\n",
              "/**\n",
              " * @fileoverview Helpers for google.colab Python module.\n",
              " */\n",
              "(function(scope) {\n",
              "function span(text, styleAttributes = {}) {\n",
              "  const element = document.createElement('span');\n",
              "  element.textContent = text;\n",
              "  for (const key of Object.keys(styleAttributes)) {\n",
              "    element.style[key] = styleAttributes[key];\n",
              "  }\n",
              "  return element;\n",
              "}\n",
              "\n",
              "// Max number of bytes which will be uploaded at a time.\n",
              "const MAX_PAYLOAD_SIZE = 100 * 1024;\n",
              "\n",
              "function _uploadFiles(inputId, outputId) {\n",
              "  const steps = uploadFilesStep(inputId, outputId);\n",
              "  const outputElement = document.getElementById(outputId);\n",
              "  // Cache steps on the outputElement to make it available for the next call\n",
              "  // to uploadFilesContinue from Python.\n",
              "  outputElement.steps = steps;\n",
              "\n",
              "  return _uploadFilesContinue(outputId);\n",
              "}\n",
              "\n",
              "// This is roughly an async generator (not supported in the browser yet),\n",
              "// where there are multiple asynchronous steps and the Python side is going\n",
              "// to poll for completion of each step.\n",
              "// This uses a Promise to block the python side on completion of each step,\n",
              "// then passes the result of the previous step as the input to the next step.\n",
              "function _uploadFilesContinue(outputId) {\n",
              "  const outputElement = document.getElementById(outputId);\n",
              "  const steps = outputElement.steps;\n",
              "\n",
              "  const next = steps.next(outputElement.lastPromiseValue);\n",
              "  return Promise.resolve(next.value.promise).then((value) => {\n",
              "    // Cache the last promise value to make it available to the next\n",
              "    // step of the generator.\n",
              "    outputElement.lastPromiseValue = value;\n",
              "    return next.value.response;\n",
              "  });\n",
              "}\n",
              "\n",
              "/**\n",
              " * Generator function which is called between each async step of the upload\n",
              " * process.\n",
              " * @param {string} inputId Element ID of the input file picker element.\n",
              " * @param {string} outputId Element ID of the output display.\n",
              " * @return {!Iterable<!Object>} Iterable of next steps.\n",
              " */\n",
              "function* uploadFilesStep(inputId, outputId) {\n",
              "  const inputElement = document.getElementById(inputId);\n",
              "  inputElement.disabled = false;\n",
              "\n",
              "  const outputElement = document.getElementById(outputId);\n",
              "  outputElement.innerHTML = '';\n",
              "\n",
              "  const pickedPromise = new Promise((resolve) => {\n",
              "    inputElement.addEventListener('change', (e) => {\n",
              "      resolve(e.target.files);\n",
              "    });\n",
              "  });\n",
              "\n",
              "  const cancel = document.createElement('button');\n",
              "  inputElement.parentElement.appendChild(cancel);\n",
              "  cancel.textContent = 'Cancel upload';\n",
              "  const cancelPromise = new Promise((resolve) => {\n",
              "    cancel.onclick = () => {\n",
              "      resolve(null);\n",
              "    };\n",
              "  });\n",
              "\n",
              "  // Wait for the user to pick the files.\n",
              "  const files = yield {\n",
              "    promise: Promise.race([pickedPromise, cancelPromise]),\n",
              "    response: {\n",
              "      action: 'starting',\n",
              "    }\n",
              "  };\n",
              "\n",
              "  cancel.remove();\n",
              "\n",
              "  // Disable the input element since further picks are not allowed.\n",
              "  inputElement.disabled = true;\n",
              "\n",
              "  if (!files) {\n",
              "    return {\n",
              "      response: {\n",
              "        action: 'complete',\n",
              "      }\n",
              "    };\n",
              "  }\n",
              "\n",
              "  for (const file of files) {\n",
              "    const li = document.createElement('li');\n",
              "    li.append(span(file.name, {fontWeight: 'bold'}));\n",
              "    li.append(span(\n",
              "        `(${file.type || 'n/a'}) - ${file.size} bytes, ` +\n",
              "        `last modified: ${\n",
              "            file.lastModifiedDate ? file.lastModifiedDate.toLocaleDateString() :\n",
              "                                    'n/a'} - `));\n",
              "    const percent = span('0% done');\n",
              "    li.appendChild(percent);\n",
              "\n",
              "    outputElement.appendChild(li);\n",
              "\n",
              "    const fileDataPromise = new Promise((resolve) => {\n",
              "      const reader = new FileReader();\n",
              "      reader.onload = (e) => {\n",
              "        resolve(e.target.result);\n",
              "      };\n",
              "      reader.readAsArrayBuffer(file);\n",
              "    });\n",
              "    // Wait for the data to be ready.\n",
              "    let fileData = yield {\n",
              "      promise: fileDataPromise,\n",
              "      response: {\n",
              "        action: 'continue',\n",
              "      }\n",
              "    };\n",
              "\n",
              "    // Use a chunked sending to avoid message size limits. See b/62115660.\n",
              "    let position = 0;\n",
              "    do {\n",
              "      const length = Math.min(fileData.byteLength - position, MAX_PAYLOAD_SIZE);\n",
              "      const chunk = new Uint8Array(fileData, position, length);\n",
              "      position += length;\n",
              "\n",
              "      const base64 = btoa(String.fromCharCode.apply(null, chunk));\n",
              "      yield {\n",
              "        response: {\n",
              "          action: 'append',\n",
              "          file: file.name,\n",
              "          data: base64,\n",
              "        },\n",
              "      };\n",
              "\n",
              "      let percentDone = fileData.byteLength === 0 ?\n",
              "          100 :\n",
              "          Math.round((position / fileData.byteLength) * 100);\n",
              "      percent.textContent = `${percentDone}% done`;\n",
              "\n",
              "    } while (position < fileData.byteLength);\n",
              "  }\n",
              "\n",
              "  // All done.\n",
              "  yield {\n",
              "    response: {\n",
              "      action: 'complete',\n",
              "    }\n",
              "  };\n",
              "}\n",
              "\n",
              "scope.google = scope.google || {};\n",
              "scope.google.colab = scope.google.colab || {};\n",
              "scope.google.colab._files = {\n",
              "  _uploadFiles,\n",
              "  _uploadFilesContinue,\n",
              "};\n",
              "})(self);\n",
              "</script> "
            ]
          },
          "metadata": {}
        },
        {
          "output_type": "stream",
          "name": "stdout",
          "text": [
            "Saving kaggle.json to kaggle.json\n"
          ]
        }
      ]
    },
    {
      "cell_type": "code",
      "source": [
        "# make a directory named kaggle and copy the kaggle.json file there\n",
        "! cp kaggle.json ~/.kaggle/\n",
        "\n"
      ],
      "metadata": {
        "id": "tv5CahemhtoB"
      },
      "execution_count": null,
      "outputs": []
    },
    {
      "cell_type": "code",
      "source": [
        "# change the permissions of the file\n",
        "! chmod 600 ~/.kaggle/kaggle.json"
      ],
      "metadata": {
        "id": "RcNILohahu9y"
      },
      "execution_count": null,
      "outputs": []
    },
    {
      "cell_type": "code",
      "source": [
        "! kaggle kernels output subhankarpanda56/notebook9f2a48bdc3 -p /path/to/dest"
      ],
      "metadata": {
        "colab": {
          "base_uri": "https://localhost:8080/"
        },
        "id": "1R253YMOh2bM",
        "outputId": "a85d42ab-9f68-47da-e1cf-4aa5121bce62"
      },
      "execution_count": null,
      "outputs": [
        {
          "output_type": "stream",
          "name": "stdout",
          "text": [
            "Output file downloaded to /path/to/dest/articles.json\n",
            "Kernel log downloaded to /path/to/dest/notebook9f2a48bdc3.log \n"
          ]
        }
      ]
    },
    {
      "cell_type": "code",
      "source": [
        "import json\n",
        "import csv\n",
        "\n",
        "fields = ['id', 'title', 'description', 'category', 'date_created', 'date_modified']\n",
        "\n",
        "# Read the JSON file\n",
        "with open('/path/to/dest/articles.json', 'r') as json_file:\n",
        "    all_articles1 = json.load(json_file)\n",
        "\n",
        "# Create and open the CSV file in write mode\n",
        "with open('articles2.csv', mode='w', newline='') as file:\n",
        "    writer = csv.DictWriter(file, fieldnames=fields)\n",
        "\n",
        "    # Write the header row\n",
        "    writer.writeheader()\n",
        "\n",
        "    # Write the data rows\n",
        "    for article in all_articles1:\n",
        "        # Filter out attributes not present in the fields list\n",
        "        attributes = {k: v for k, v in article['attributes'].items() if k in fields}\n",
        "        writer.writerow(attributes)\n",
        "\n",
        "print(\"CSV file created: articles.csv\")"
      ],
      "metadata": {
        "colab": {
          "base_uri": "https://localhost:8080/"
        },
        "id": "x_fSzFQDiSQI",
        "outputId": "e81e308a-d857-4a91-a723-7ffce896a69e"
      },
      "execution_count": null,
      "outputs": [
        {
          "output_type": "stream",
          "name": "stdout",
          "text": [
            "CSV file created: articles.csv\n"
          ]
        }
      ]
    },
    {
      "cell_type": "code",
      "source": [
        "! kaggle kernels output subhankarpanda56/notebook8c3034ff50 -p /content"
      ],
      "metadata": {
        "colab": {
          "base_uri": "https://localhost:8080/"
        },
        "id": "YSuXhyLSi2th",
        "outputId": "5b7d90bf-22e2-48d2-c6ae-44ab27efb08b"
      },
      "execution_count": null,
      "outputs": [
        {
          "output_type": "stream",
          "name": "stdout",
          "text": [
            "Output file downloaded to /content/author_list2.csv\n",
            "Kernel log downloaded to /content/notebook8c3034ff50.log \n"
          ]
        }
      ]
    },
    {
      "cell_type": "code",
      "source": [
        "! kaggle kernels output subhankarpanda56/notebook8c3034ff50 -p /path/to/dest"
      ],
      "metadata": {
        "colab": {
          "base_uri": "https://localhost:8080/"
        },
        "id": "adjfWMeMkNMf",
        "outputId": "3db4a3c2-c5b2-4db3-a284-6ce6d282d19a"
      },
      "execution_count": null,
      "outputs": [
        {
          "output_type": "stream",
          "name": "stdout",
          "text": [
            "Output file downloaded to /path/to/dest/author_list2.csv\n",
            "Kernel log downloaded to /path/to/dest/notebook8c3034ff50.log \n"
          ]
        }
      ]
    },
    {
      "cell_type": "code",
      "source": [
        "! kaggle kernels output subhankarpanda56/notebook8c3034ff50 -p /datalab"
      ],
      "metadata": {
        "colab": {
          "base_uri": "https://localhost:8080/"
        },
        "id": "8SJ54X_MkwC3",
        "outputId": "6639e694-bf41-4d99-bc03-92e67f29c333"
      },
      "execution_count": null,
      "outputs": [
        {
          "output_type": "stream",
          "name": "stdout",
          "text": [
            "Output file downloaded to /datalab/author_list2.csv\n",
            "Kernel log downloaded to /datalab/notebook8c3034ff50.log \n"
          ]
        }
      ]
    },
    {
      "cell_type": "code",
      "source": [
        "import pandas as pd\n",
        "main = pd.read_csv(\"/content/articles2.csv\")\n",
        "last = pd.read_csv(\"/content/author_list2.csv\")\n",
        "first = pd.read_csv('/author_list.csv')"
      ],
      "metadata": {
        "id": "1BbeuUhPjvvG"
      },
      "execution_count": null,
      "outputs": []
    },
    {
      "cell_type": "code",
      "source": [
        "print(main.shape)\n",
        "print(first.shape)\n",
        "print(last.shape)"
      ],
      "metadata": {
        "colab": {
          "base_uri": "https://localhost:8080/"
        },
        "id": "cm4oMG4vkXlx",
        "outputId": "66384e89-de57-4f27-c60e-6c16fbc64d0f"
      },
      "execution_count": null,
      "outputs": [
        {
          "output_type": "stream",
          "name": "stdout",
          "text": [
            "(111800, 6)\n",
            "(50001, 1)\n",
            "(39999, 1)\n"
          ]
        }
      ]
    },
    {
      "cell_type": "code",
      "source": [
        "first.Authors[-1:]"
      ],
      "metadata": {
        "colab": {
          "base_uri": "https://localhost:8080/"
        },
        "id": "sL9dqGF8kgtO",
        "outputId": "1c7ddbe4-09a3-4fcf-c57c-6190dcd43668"
      },
      "execution_count": null,
      "outputs": [
        {
          "output_type": "execute_result",
          "data": {
            "text/plain": [
              "50000    ['Margaret Kandel']\n",
              "Name: Authors, dtype: object"
            ]
          },
          "metadata": {},
          "execution_count": 31
        }
      ]
    },
    {
      "cell_type": "code",
      "source": [
        "last.head(5)"
      ],
      "metadata": {
        "colab": {
          "base_uri": "https://localhost:8080/",
          "height": 206
        },
        "id": "bwheToriknUY",
        "outputId": "dc21ae1a-b563-4498-83ae-6f3b2fe93920"
      },
      "execution_count": null,
      "outputs": [
        {
          "output_type": "execute_result",
          "data": {
            "text/plain": [
              "                     Authors\n",
              "0         ['Elkanah Otiang']\n",
              "1  ['Michael Edem Fiagbenu']\n",
              "2           ['Enrico Ragni']\n",
              "3         ['Brendan Godwin']\n",
              "4         ['Brendan Godwin']"
            ],
            "text/html": [
              "\n",
              "  <div id=\"df-3147ec6e-884e-47ea-ba22-4d925beb101f\">\n",
              "    <div class=\"colab-df-container\">\n",
              "      <div>\n",
              "<style scoped>\n",
              "    .dataframe tbody tr th:only-of-type {\n",
              "        vertical-align: middle;\n",
              "    }\n",
              "\n",
              "    .dataframe tbody tr th {\n",
              "        vertical-align: top;\n",
              "    }\n",
              "\n",
              "    .dataframe thead th {\n",
              "        text-align: right;\n",
              "    }\n",
              "</style>\n",
              "<table border=\"1\" class=\"dataframe\">\n",
              "  <thead>\n",
              "    <tr style=\"text-align: right;\">\n",
              "      <th></th>\n",
              "      <th>Authors</th>\n",
              "    </tr>\n",
              "  </thead>\n",
              "  <tbody>\n",
              "    <tr>\n",
              "      <th>0</th>\n",
              "      <td>['Elkanah Otiang']</td>\n",
              "    </tr>\n",
              "    <tr>\n",
              "      <th>1</th>\n",
              "      <td>['Michael Edem Fiagbenu']</td>\n",
              "    </tr>\n",
              "    <tr>\n",
              "      <th>2</th>\n",
              "      <td>['Enrico Ragni']</td>\n",
              "    </tr>\n",
              "    <tr>\n",
              "      <th>3</th>\n",
              "      <td>['Brendan Godwin']</td>\n",
              "    </tr>\n",
              "    <tr>\n",
              "      <th>4</th>\n",
              "      <td>['Brendan Godwin']</td>\n",
              "    </tr>\n",
              "  </tbody>\n",
              "</table>\n",
              "</div>\n",
              "      <button class=\"colab-df-convert\" onclick=\"convertToInteractive('df-3147ec6e-884e-47ea-ba22-4d925beb101f')\"\n",
              "              title=\"Convert this dataframe to an interactive table.\"\n",
              "              style=\"display:none;\">\n",
              "        \n",
              "  <svg xmlns=\"http://www.w3.org/2000/svg\" height=\"24px\"viewBox=\"0 0 24 24\"\n",
              "       width=\"24px\">\n",
              "    <path d=\"M0 0h24v24H0V0z\" fill=\"none\"/>\n",
              "    <path d=\"M18.56 5.44l.94 2.06.94-2.06 2.06-.94-2.06-.94-.94-2.06-.94 2.06-2.06.94zm-11 1L8.5 8.5l.94-2.06 2.06-.94-2.06-.94L8.5 2.5l-.94 2.06-2.06.94zm10 10l.94 2.06.94-2.06 2.06-.94-2.06-.94-.94-2.06-.94 2.06-2.06.94z\"/><path d=\"M17.41 7.96l-1.37-1.37c-.4-.4-.92-.59-1.43-.59-.52 0-1.04.2-1.43.59L10.3 9.45l-7.72 7.72c-.78.78-.78 2.05 0 2.83L4 21.41c.39.39.9.59 1.41.59.51 0 1.02-.2 1.41-.59l7.78-7.78 2.81-2.81c.8-.78.8-2.07 0-2.86zM5.41 20L4 18.59l7.72-7.72 1.47 1.35L5.41 20z\"/>\n",
              "  </svg>\n",
              "      </button>\n",
              "      \n",
              "  <style>\n",
              "    .colab-df-container {\n",
              "      display:flex;\n",
              "      flex-wrap:wrap;\n",
              "      gap: 12px;\n",
              "    }\n",
              "\n",
              "    .colab-df-convert {\n",
              "      background-color: #E8F0FE;\n",
              "      border: none;\n",
              "      border-radius: 50%;\n",
              "      cursor: pointer;\n",
              "      display: none;\n",
              "      fill: #1967D2;\n",
              "      height: 32px;\n",
              "      padding: 0 0 0 0;\n",
              "      width: 32px;\n",
              "    }\n",
              "\n",
              "    .colab-df-convert:hover {\n",
              "      background-color: #E2EBFA;\n",
              "      box-shadow: 0px 1px 2px rgba(60, 64, 67, 0.3), 0px 1px 3px 1px rgba(60, 64, 67, 0.15);\n",
              "      fill: #174EA6;\n",
              "    }\n",
              "\n",
              "    [theme=dark] .colab-df-convert {\n",
              "      background-color: #3B4455;\n",
              "      fill: #D2E3FC;\n",
              "    }\n",
              "\n",
              "    [theme=dark] .colab-df-convert:hover {\n",
              "      background-color: #434B5C;\n",
              "      box-shadow: 0px 1px 3px 1px rgba(0, 0, 0, 0.15);\n",
              "      filter: drop-shadow(0px 1px 2px rgba(0, 0, 0, 0.3));\n",
              "      fill: #FFFFFF;\n",
              "    }\n",
              "  </style>\n",
              "\n",
              "      <script>\n",
              "        const buttonEl =\n",
              "          document.querySelector('#df-3147ec6e-884e-47ea-ba22-4d925beb101f button.colab-df-convert');\n",
              "        buttonEl.style.display =\n",
              "          google.colab.kernel.accessAllowed ? 'block' : 'none';\n",
              "\n",
              "        async function convertToInteractive(key) {\n",
              "          const element = document.querySelector('#df-3147ec6e-884e-47ea-ba22-4d925beb101f');\n",
              "          const dataTable =\n",
              "            await google.colab.kernel.invokeFunction('convertToInteractive',\n",
              "                                                     [key], {});\n",
              "          if (!dataTable) return;\n",
              "\n",
              "          const docLinkHtml = 'Like what you see? Visit the ' +\n",
              "            '<a target=\"_blank\" href=https://colab.research.google.com/notebooks/data_table.ipynb>data table notebook</a>'\n",
              "            + ' to learn more about interactive tables.';\n",
              "          element.innerHTML = '';\n",
              "          dataTable['output_type'] = 'display_data';\n",
              "          await google.colab.output.renderOutput(dataTable, element);\n",
              "          const docLink = document.createElement('div');\n",
              "          docLink.innerHTML = docLinkHtml;\n",
              "          element.appendChild(docLink);\n",
              "        }\n",
              "      </script>\n",
              "    </div>\n",
              "  </div>\n",
              "  "
            ]
          },
          "metadata": {},
          "execution_count": 13
        }
      ]
    },
    {
      "cell_type": "code",
      "source": [
        "fina = pd.concat([first, last], axis=0)\n"
      ],
      "metadata": {
        "id": "ok-xkz-Okp89"
      },
      "execution_count": null,
      "outputs": []
    },
    {
      "cell_type": "code",
      "source": [
        "fina.head(5)"
      ],
      "metadata": {
        "colab": {
          "base_uri": "https://localhost:8080/",
          "height": 206
        },
        "id": "CJ02IHUznGok",
        "outputId": "196b08bc-0d20-40d9-9801-be9bc78ab4ef"
      },
      "execution_count": null,
      "outputs": [
        {
          "output_type": "execute_result",
          "data": {
            "text/plain": [
              "                                             Authors\n",
              "0                                    ['Jana Lasser']\n",
              "1                                   ['Pengfei Zhao']\n",
              "2                                  ['Devin R. Berg']\n",
              "3  ['Alexia Galati', 'Camila Alviar', 'Moreno I. ...\n",
              "4        ['Ewa Skopicz-Radkiewicz', 'Hartmut Blank']"
            ],
            "text/html": [
              "\n",
              "  <div id=\"df-d6fafd6c-cb3d-4233-94e7-412e96ab16b8\">\n",
              "    <div class=\"colab-df-container\">\n",
              "      <div>\n",
              "<style scoped>\n",
              "    .dataframe tbody tr th:only-of-type {\n",
              "        vertical-align: middle;\n",
              "    }\n",
              "\n",
              "    .dataframe tbody tr th {\n",
              "        vertical-align: top;\n",
              "    }\n",
              "\n",
              "    .dataframe thead th {\n",
              "        text-align: right;\n",
              "    }\n",
              "</style>\n",
              "<table border=\"1\" class=\"dataframe\">\n",
              "  <thead>\n",
              "    <tr style=\"text-align: right;\">\n",
              "      <th></th>\n",
              "      <th>Authors</th>\n",
              "    </tr>\n",
              "  </thead>\n",
              "  <tbody>\n",
              "    <tr>\n",
              "      <th>0</th>\n",
              "      <td>['Jana Lasser']</td>\n",
              "    </tr>\n",
              "    <tr>\n",
              "      <th>1</th>\n",
              "      <td>['Pengfei Zhao']</td>\n",
              "    </tr>\n",
              "    <tr>\n",
              "      <th>2</th>\n",
              "      <td>['Devin R. Berg']</td>\n",
              "    </tr>\n",
              "    <tr>\n",
              "      <th>3</th>\n",
              "      <td>['Alexia Galati', 'Camila Alviar', 'Moreno I. ...</td>\n",
              "    </tr>\n",
              "    <tr>\n",
              "      <th>4</th>\n",
              "      <td>['Ewa Skopicz-Radkiewicz', 'Hartmut Blank']</td>\n",
              "    </tr>\n",
              "  </tbody>\n",
              "</table>\n",
              "</div>\n",
              "      <button class=\"colab-df-convert\" onclick=\"convertToInteractive('df-d6fafd6c-cb3d-4233-94e7-412e96ab16b8')\"\n",
              "              title=\"Convert this dataframe to an interactive table.\"\n",
              "              style=\"display:none;\">\n",
              "        \n",
              "  <svg xmlns=\"http://www.w3.org/2000/svg\" height=\"24px\"viewBox=\"0 0 24 24\"\n",
              "       width=\"24px\">\n",
              "    <path d=\"M0 0h24v24H0V0z\" fill=\"none\"/>\n",
              "    <path d=\"M18.56 5.44l.94 2.06.94-2.06 2.06-.94-2.06-.94-.94-2.06-.94 2.06-2.06.94zm-11 1L8.5 8.5l.94-2.06 2.06-.94-2.06-.94L8.5 2.5l-.94 2.06-2.06.94zm10 10l.94 2.06.94-2.06 2.06-.94-2.06-.94-.94-2.06-.94 2.06-2.06.94z\"/><path d=\"M17.41 7.96l-1.37-1.37c-.4-.4-.92-.59-1.43-.59-.52 0-1.04.2-1.43.59L10.3 9.45l-7.72 7.72c-.78.78-.78 2.05 0 2.83L4 21.41c.39.39.9.59 1.41.59.51 0 1.02-.2 1.41-.59l7.78-7.78 2.81-2.81c.8-.78.8-2.07 0-2.86zM5.41 20L4 18.59l7.72-7.72 1.47 1.35L5.41 20z\"/>\n",
              "  </svg>\n",
              "      </button>\n",
              "      \n",
              "  <style>\n",
              "    .colab-df-container {\n",
              "      display:flex;\n",
              "      flex-wrap:wrap;\n",
              "      gap: 12px;\n",
              "    }\n",
              "\n",
              "    .colab-df-convert {\n",
              "      background-color: #E8F0FE;\n",
              "      border: none;\n",
              "      border-radius: 50%;\n",
              "      cursor: pointer;\n",
              "      display: none;\n",
              "      fill: #1967D2;\n",
              "      height: 32px;\n",
              "      padding: 0 0 0 0;\n",
              "      width: 32px;\n",
              "    }\n",
              "\n",
              "    .colab-df-convert:hover {\n",
              "      background-color: #E2EBFA;\n",
              "      box-shadow: 0px 1px 2px rgba(60, 64, 67, 0.3), 0px 1px 3px 1px rgba(60, 64, 67, 0.15);\n",
              "      fill: #174EA6;\n",
              "    }\n",
              "\n",
              "    [theme=dark] .colab-df-convert {\n",
              "      background-color: #3B4455;\n",
              "      fill: #D2E3FC;\n",
              "    }\n",
              "\n",
              "    [theme=dark] .colab-df-convert:hover {\n",
              "      background-color: #434B5C;\n",
              "      box-shadow: 0px 1px 3px 1px rgba(0, 0, 0, 0.15);\n",
              "      filter: drop-shadow(0px 1px 2px rgba(0, 0, 0, 0.3));\n",
              "      fill: #FFFFFF;\n",
              "    }\n",
              "  </style>\n",
              "\n",
              "      <script>\n",
              "        const buttonEl =\n",
              "          document.querySelector('#df-d6fafd6c-cb3d-4233-94e7-412e96ab16b8 button.colab-df-convert');\n",
              "        buttonEl.style.display =\n",
              "          google.colab.kernel.accessAllowed ? 'block' : 'none';\n",
              "\n",
              "        async function convertToInteractive(key) {\n",
              "          const element = document.querySelector('#df-d6fafd6c-cb3d-4233-94e7-412e96ab16b8');\n",
              "          const dataTable =\n",
              "            await google.colab.kernel.invokeFunction('convertToInteractive',\n",
              "                                                     [key], {});\n",
              "          if (!dataTable) return;\n",
              "\n",
              "          const docLinkHtml = 'Like what you see? Visit the ' +\n",
              "            '<a target=\"_blank\" href=https://colab.research.google.com/notebooks/data_table.ipynb>data table notebook</a>'\n",
              "            + ' to learn more about interactive tables.';\n",
              "          element.innerHTML = '';\n",
              "          dataTable['output_type'] = 'display_data';\n",
              "          await google.colab.output.renderOutput(dataTable, element);\n",
              "          const docLink = document.createElement('div');\n",
              "          docLink.innerHTML = docLinkHtml;\n",
              "          element.appendChild(docLink);\n",
              "        }\n",
              "      </script>\n",
              "    </div>\n",
              "  </div>\n",
              "  "
            ]
          },
          "metadata": {},
          "execution_count": 27
        }
      ]
    },
    {
      "cell_type": "code",
      "source": [
        "fina.shape"
      ],
      "metadata": {
        "colab": {
          "base_uri": "https://localhost:8080/"
        },
        "id": "iemmDVm0nIuh",
        "outputId": "e8fc5c7f-1c31-4ba9-b95f-c25a2e1c3105"
      },
      "execution_count": null,
      "outputs": [
        {
          "output_type": "execute_result",
          "data": {
            "text/plain": [
              "(90000, 1)"
            ]
          },
          "metadata": {},
          "execution_count": 29
        }
      ]
    },
    {
      "cell_type": "code",
      "source": [
        "fina.Authors[50000]"
      ],
      "metadata": {
        "colab": {
          "base_uri": "https://localhost:8080/",
          "height": 36
        },
        "id": "sAradQjQnSva",
        "outputId": "a6a1160c-c15b-4a09-f5e6-bc6ed97ff5f0"
      },
      "execution_count": null,
      "outputs": [
        {
          "output_type": "execute_result",
          "data": {
            "text/plain": [
              "\"['Margaret Kandel']\""
            ],
            "application/vnd.google.colaboratory.intrinsic+json": {
              "type": "string"
            }
          },
          "metadata": {},
          "execution_count": 30
        }
      ]
    },
    {
      "cell_type": "code",
      "source": [
        "auth = fina['Authors']\n"
      ],
      "metadata": {
        "id": "7WZwMNE_nYnn"
      },
      "execution_count": null,
      "outputs": []
    },
    {
      "cell_type": "code",
      "source": [
        "auth2 = auth.reset_index(drop=True)"
      ],
      "metadata": {
        "id": "M5FPdJWRq-je"
      },
      "execution_count": null,
      "outputs": []
    },
    {
      "cell_type": "code",
      "source": [
        "main['Authors'] = auth2"
      ],
      "metadata": {
        "id": "hV6Z_zNeqX03"
      },
      "execution_count": null,
      "outputs": []
    },
    {
      "cell_type": "code",
      "source": [
        "main.head(5)"
      ],
      "metadata": {
        "colab": {
          "base_uri": "https://localhost:8080/",
          "height": 337
        },
        "id": "BEOKlQuXqcB_",
        "outputId": "986ebe79-b6d7-4d9a-f7cd-2f86aa6312f4"
      },
      "execution_count": null,
      "outputs": [
        {
          "output_type": "execute_result",
          "data": {
            "text/plain": [
              "   id                                              title  \\\n",
              "0 NaN                      Twitter API v2 sampled stream   \n",
              "1 NaN              Mediating Children’s Social Media Use   \n",
              "2 NaN                                Dunn County COVID19   \n",
              "3 NaN  Task constraints on interpersonal coordination...   \n",
              "4 NaN  Processing of double misinformation under cond...   \n",
              "\n",
              "                                         description category  \\\n",
              "0  This repository stores the IDs from tweets del...  project   \n",
              "1                                                NaN  project   \n",
              "2                                                NaN  project   \n",
              "3                                                NaN  project   \n",
              "4                                                NaN  project   \n",
              "\n",
              "                 date_created               date_modified  \\\n",
              "0  2022-03-23T09:33:39.350738  2023-05-21T02:15:00.468023   \n",
              "1  2021-06-03T18:43:13.246680  2023-05-21T00:24:37.506143   \n",
              "2  2020-07-29T16:29:17.061244         2023-05-20T23:14:45   \n",
              "3  2020-02-03T21:12:15.881610  2023-05-20T22:47:32.355718   \n",
              "4  2022-12-15T09:38:27.154455  2023-05-20T21:59:59.201132   \n",
              "\n",
              "                                             Authors  \n",
              "0                                    ['Jana Lasser']  \n",
              "1                                   ['Pengfei Zhao']  \n",
              "2                                  ['Devin R. Berg']  \n",
              "3  ['Alexia Galati', 'Camila Alviar', 'Moreno I. ...  \n",
              "4        ['Ewa Skopicz-Radkiewicz', 'Hartmut Blank']  "
            ],
            "text/html": [
              "\n",
              "  <div id=\"df-e58b1aef-aa1d-4a8a-a9e3-51d5360efb45\">\n",
              "    <div class=\"colab-df-container\">\n",
              "      <div>\n",
              "<style scoped>\n",
              "    .dataframe tbody tr th:only-of-type {\n",
              "        vertical-align: middle;\n",
              "    }\n",
              "\n",
              "    .dataframe tbody tr th {\n",
              "        vertical-align: top;\n",
              "    }\n",
              "\n",
              "    .dataframe thead th {\n",
              "        text-align: right;\n",
              "    }\n",
              "</style>\n",
              "<table border=\"1\" class=\"dataframe\">\n",
              "  <thead>\n",
              "    <tr style=\"text-align: right;\">\n",
              "      <th></th>\n",
              "      <th>id</th>\n",
              "      <th>title</th>\n",
              "      <th>description</th>\n",
              "      <th>category</th>\n",
              "      <th>date_created</th>\n",
              "      <th>date_modified</th>\n",
              "      <th>Authors</th>\n",
              "    </tr>\n",
              "  </thead>\n",
              "  <tbody>\n",
              "    <tr>\n",
              "      <th>0</th>\n",
              "      <td>NaN</td>\n",
              "      <td>Twitter API v2 sampled stream</td>\n",
              "      <td>This repository stores the IDs from tweets del...</td>\n",
              "      <td>project</td>\n",
              "      <td>2022-03-23T09:33:39.350738</td>\n",
              "      <td>2023-05-21T02:15:00.468023</td>\n",
              "      <td>['Jana Lasser']</td>\n",
              "    </tr>\n",
              "    <tr>\n",
              "      <th>1</th>\n",
              "      <td>NaN</td>\n",
              "      <td>Mediating Children’s Social Media Use</td>\n",
              "      <td>NaN</td>\n",
              "      <td>project</td>\n",
              "      <td>2021-06-03T18:43:13.246680</td>\n",
              "      <td>2023-05-21T00:24:37.506143</td>\n",
              "      <td>['Pengfei Zhao']</td>\n",
              "    </tr>\n",
              "    <tr>\n",
              "      <th>2</th>\n",
              "      <td>NaN</td>\n",
              "      <td>Dunn County COVID19</td>\n",
              "      <td>NaN</td>\n",
              "      <td>project</td>\n",
              "      <td>2020-07-29T16:29:17.061244</td>\n",
              "      <td>2023-05-20T23:14:45</td>\n",
              "      <td>['Devin R. Berg']</td>\n",
              "    </tr>\n",
              "    <tr>\n",
              "      <th>3</th>\n",
              "      <td>NaN</td>\n",
              "      <td>Task constraints on interpersonal coordination...</td>\n",
              "      <td>NaN</td>\n",
              "      <td>project</td>\n",
              "      <td>2020-02-03T21:12:15.881610</td>\n",
              "      <td>2023-05-20T22:47:32.355718</td>\n",
              "      <td>['Alexia Galati', 'Camila Alviar', 'Moreno I. ...</td>\n",
              "    </tr>\n",
              "    <tr>\n",
              "      <th>4</th>\n",
              "      <td>NaN</td>\n",
              "      <td>Processing of double misinformation under cond...</td>\n",
              "      <td>NaN</td>\n",
              "      <td>project</td>\n",
              "      <td>2022-12-15T09:38:27.154455</td>\n",
              "      <td>2023-05-20T21:59:59.201132</td>\n",
              "      <td>['Ewa Skopicz-Radkiewicz', 'Hartmut Blank']</td>\n",
              "    </tr>\n",
              "  </tbody>\n",
              "</table>\n",
              "</div>\n",
              "      <button class=\"colab-df-convert\" onclick=\"convertToInteractive('df-e58b1aef-aa1d-4a8a-a9e3-51d5360efb45')\"\n",
              "              title=\"Convert this dataframe to an interactive table.\"\n",
              "              style=\"display:none;\">\n",
              "        \n",
              "  <svg xmlns=\"http://www.w3.org/2000/svg\" height=\"24px\"viewBox=\"0 0 24 24\"\n",
              "       width=\"24px\">\n",
              "    <path d=\"M0 0h24v24H0V0z\" fill=\"none\"/>\n",
              "    <path d=\"M18.56 5.44l.94 2.06.94-2.06 2.06-.94-2.06-.94-.94-2.06-.94 2.06-2.06.94zm-11 1L8.5 8.5l.94-2.06 2.06-.94-2.06-.94L8.5 2.5l-.94 2.06-2.06.94zm10 10l.94 2.06.94-2.06 2.06-.94-2.06-.94-.94-2.06-.94 2.06-2.06.94z\"/><path d=\"M17.41 7.96l-1.37-1.37c-.4-.4-.92-.59-1.43-.59-.52 0-1.04.2-1.43.59L10.3 9.45l-7.72 7.72c-.78.78-.78 2.05 0 2.83L4 21.41c.39.39.9.59 1.41.59.51 0 1.02-.2 1.41-.59l7.78-7.78 2.81-2.81c.8-.78.8-2.07 0-2.86zM5.41 20L4 18.59l7.72-7.72 1.47 1.35L5.41 20z\"/>\n",
              "  </svg>\n",
              "      </button>\n",
              "      \n",
              "  <style>\n",
              "    .colab-df-container {\n",
              "      display:flex;\n",
              "      flex-wrap:wrap;\n",
              "      gap: 12px;\n",
              "    }\n",
              "\n",
              "    .colab-df-convert {\n",
              "      background-color: #E8F0FE;\n",
              "      border: none;\n",
              "      border-radius: 50%;\n",
              "      cursor: pointer;\n",
              "      display: none;\n",
              "      fill: #1967D2;\n",
              "      height: 32px;\n",
              "      padding: 0 0 0 0;\n",
              "      width: 32px;\n",
              "    }\n",
              "\n",
              "    .colab-df-convert:hover {\n",
              "      background-color: #E2EBFA;\n",
              "      box-shadow: 0px 1px 2px rgba(60, 64, 67, 0.3), 0px 1px 3px 1px rgba(60, 64, 67, 0.15);\n",
              "      fill: #174EA6;\n",
              "    }\n",
              "\n",
              "    [theme=dark] .colab-df-convert {\n",
              "      background-color: #3B4455;\n",
              "      fill: #D2E3FC;\n",
              "    }\n",
              "\n",
              "    [theme=dark] .colab-df-convert:hover {\n",
              "      background-color: #434B5C;\n",
              "      box-shadow: 0px 1px 3px 1px rgba(0, 0, 0, 0.15);\n",
              "      filter: drop-shadow(0px 1px 2px rgba(0, 0, 0, 0.3));\n",
              "      fill: #FFFFFF;\n",
              "    }\n",
              "  </style>\n",
              "\n",
              "      <script>\n",
              "        const buttonEl =\n",
              "          document.querySelector('#df-e58b1aef-aa1d-4a8a-a9e3-51d5360efb45 button.colab-df-convert');\n",
              "        buttonEl.style.display =\n",
              "          google.colab.kernel.accessAllowed ? 'block' : 'none';\n",
              "\n",
              "        async function convertToInteractive(key) {\n",
              "          const element = document.querySelector('#df-e58b1aef-aa1d-4a8a-a9e3-51d5360efb45');\n",
              "          const dataTable =\n",
              "            await google.colab.kernel.invokeFunction('convertToInteractive',\n",
              "                                                     [key], {});\n",
              "          if (!dataTable) return;\n",
              "\n",
              "          const docLinkHtml = 'Like what you see? Visit the ' +\n",
              "            '<a target=\"_blank\" href=https://colab.research.google.com/notebooks/data_table.ipynb>data table notebook</a>'\n",
              "            + ' to learn more about interactive tables.';\n",
              "          element.innerHTML = '';\n",
              "          dataTable['output_type'] = 'display_data';\n",
              "          await google.colab.output.renderOutput(dataTable, element);\n",
              "          const docLink = document.createElement('div');\n",
              "          docLink.innerHTML = docLinkHtml;\n",
              "          element.appendChild(docLink);\n",
              "        }\n",
              "      </script>\n",
              "    </div>\n",
              "  </div>\n",
              "  "
            ]
          },
          "metadata": {},
          "execution_count": 41
        }
      ]
    },
    {
      "cell_type": "code",
      "source": [
        "main.isnull().sum()"
      ],
      "metadata": {
        "colab": {
          "base_uri": "https://localhost:8080/"
        },
        "id": "B_CHBrKIqfji",
        "outputId": "64fe39e1-3b41-4364-8e45-eb6dde97b1c1"
      },
      "execution_count": null,
      "outputs": [
        {
          "output_type": "execute_result",
          "data": {
            "text/plain": [
              "id               111800\n",
              "title                 1\n",
              "description       63186\n",
              "category              0\n",
              "date_created          0\n",
              "date_modified         0\n",
              "Authors           22947\n",
              "dtype: int64"
            ]
          },
          "metadata": {},
          "execution_count": 42
        }
      ]
    },
    {
      "cell_type": "code",
      "source": [
        "main2 = main.dropna(subset=['description', 'Authors'])"
      ],
      "metadata": {
        "id": "Mcdc-P7BqpLb"
      },
      "execution_count": null,
      "outputs": []
    },
    {
      "cell_type": "code",
      "source": [
        "main2.shape"
      ],
      "metadata": {
        "colab": {
          "base_uri": "https://localhost:8080/"
        },
        "id": "KkuB26NHrhEI",
        "outputId": "1f7e72ca-bd2e-449b-c4c9-c69f67c0e739"
      },
      "execution_count": null,
      "outputs": [
        {
          "output_type": "execute_result",
          "data": {
            "text/plain": [
              "(39622, 7)"
            ]
          },
          "metadata": {},
          "execution_count": 44
        }
      ]
    },
    {
      "cell_type": "code",
      "source": [
        "main2.isnull().sum()"
      ],
      "metadata": {
        "colab": {
          "base_uri": "https://localhost:8080/"
        },
        "id": "po4nb-s0ri6g",
        "outputId": "cf8ce0e5-5c52-4680-c1b7-25f1e4d2b369"
      },
      "execution_count": null,
      "outputs": [
        {
          "output_type": "execute_result",
          "data": {
            "text/plain": [
              "id               39622\n",
              "title                0\n",
              "description          0\n",
              "category             0\n",
              "date_created         0\n",
              "date_modified        0\n",
              "Authors              0\n",
              "dtype: int64"
            ]
          },
          "metadata": {},
          "execution_count": 45
        }
      ]
    },
    {
      "cell_type": "code",
      "source": [
        "main2.head(20)"
      ],
      "metadata": {
        "colab": {
          "base_uri": "https://localhost:8080/",
          "height": 1000
        },
        "id": "APvCwhTArqzz",
        "outputId": "30787b4a-93e5-4513-85b9-f9df5c3bacc5"
      },
      "execution_count": null,
      "outputs": [
        {
          "output_type": "execute_result",
          "data": {
            "text/plain": [
              "    id                                              title  \\\n",
              "0  NaN                      Twitter API v2 sampled stream   \n",
              "7  NaN                                    Patoloji Atlası   \n",
              "8  NaN                                        PhytoOracle   \n",
              "13 NaN                                  foveated_metamers   \n",
              "14 NaN                                         HICSS 2020   \n",
              "15 NaN                   Online Imitation-Inhibition Task   \n",
              "18 NaN          Economic Forecasts and Executive Approval   \n",
              "25 NaN                                 Neuromatch academy   \n",
              "26 NaN  My side, your side and the evidence: Discoveri...   \n",
              "29 NaN                              贝叶斯混合效应模型：基于brms的应用教程   \n",
              "30 NaN  Stress, anxiety and belief in conspiracy theories   \n",
              "31 NaN  Comparing different measures of bilingual inpu...   \n",
              "32 NaN  Spontaneous Behavioral Coordination: The Impac...   \n",
              "34 NaN  A Multi-State Evaluation of Extreme Risk Prote...   \n",
              "35 NaN               Respiration and (a)periodic dynamics   \n",
              "36 NaN  A census of Research Integrity Advisors in Aus...   \n",
              "38 NaN  Contraception Decision Aid Use and Patient Out...   \n",
              "40 NaN                      Vanderbilt Instruction Slides   \n",
              "41 NaN  Visualizing Uncertainty in Hurricane Forecasts...   \n",
              "43 NaN                                        Reparations   \n",
              "\n",
              "                                          description category  \\\n",
              "0   This repository stores the IDs from tweets del...  project   \n",
              "7                                     Patoloji Atlası  project   \n",
              "8   PhytoOracle is a suite of modular, scalable ph...  project   \n",
              "13  Files corresponding to the Foveated Metamers r...  project   \n",
              "14  In for a Penny, in for a Pound? A Lifecycle Mo...  project   \n",
              "15  Code to run the imitation-inhibition task onli...  project   \n",
              "18  The “objective” economy and how the media port...  project   \n",
              "25  Data store for neuromatch academy. Contains pr...  project   \n",
              "26  Supplementary dataset and codebase for ACL 202...  project   \n",
              "29  贝叶斯混合效应模型在处理数据层级结构和提供更直观的统计结果等方面有着独特的优势。这些诸多优势...  project   \n",
              "30  This study aims to examine Swami et al.’s (201...  project   \n",
              "31  Purpose: Measuring language input, especially ...  project   \n",
              "32  Some researchers have posited that while behav...  project   \n",
              "34  This study will examine extreme risk protectio...  project   \n",
              "35  Code and underlying data to reproduce the main...  project   \n",
              "36  A national census of Research Integrity Adviso...  project   \n",
              "38  Clinical trial testing the impact of a digital...  project   \n",
              "40  Slides used for SEL research and course instru...  project   \n",
              "41  Accepted for publication in Weather, Climate, ...  project   \n",
              "43  The gist of this project is that we think Japa...  project   \n",
              "\n",
              "                  date_created               date_modified  \\\n",
              "0   2022-03-23T09:33:39.350738  2023-05-21T02:15:00.468023   \n",
              "7   2022-03-24T12:59:29.116983         2023-05-20T19:08:49   \n",
              "8   2022-03-30T17:31:06.766935         2023-05-20T18:46:29   \n",
              "13  2019-11-15T19:26:40.145717         2023-05-20T15:14:46   \n",
              "14  2019-08-23T07:41:13.716599  2023-05-20T15:00:24.622524   \n",
              "15  2020-03-31T14:28:57.666151         2023-05-20T14:59:51   \n",
              "18  2021-02-16T09:04:19.784232  2023-05-20T13:10:14.175218   \n",
              "25  2020-06-05T22:56:39.602815  2023-05-20T06:02:11.458338   \n",
              "26  2022-12-22T03:59:57.412520  2023-05-20T05:53:42.366173   \n",
              "29  2022-10-09T06:49:15.750215         2023-05-20T02:46:18   \n",
              "30  2021-07-20T23:08:27.759575  2023-05-20T02:17:53.056798   \n",
              "31  2022-07-25T19:39:46.559428  2023-05-20T02:05:59.076286   \n",
              "32  2022-09-30T22:38:20.905526  2023-05-20T00:07:30.659801   \n",
              "34  2020-09-25T18:36:57.163556  2023-05-19T21:19:00.288185   \n",
              "35  2022-12-30T11:40:50.004498  2023-05-19T20:54:44.218277   \n",
              "36  2022-10-04T03:41:52.496360  2023-05-19T20:41:44.539004   \n",
              "38  2022-01-03T21:05:01.798694  2023-05-19T20:18:09.526842   \n",
              "40  2022-08-09T22:56:47.623037  2023-05-19T20:07:10.311908   \n",
              "41  2021-05-03T19:34:36.658678  2023-05-19T20:01:29.851071   \n",
              "43  2022-06-29T17:15:20.832271  2023-05-19T19:00:02.139504   \n",
              "\n",
              "                                              Authors  \n",
              "0                                     ['Jana Lasser']  \n",
              "7                                    ['Serdar Balcı']  \n",
              "8   ['Emmanuel Miguel Gonzalez', 'Sebastian Callej...  \n",
              "13                     ['William Ferguson Broderick']  \n",
              "14  ['Phil Hennel', 'Christoph Rosenkranz', 'Tim D...  \n",
              "15  ['Mareike Westfal', 'Emiel Cracco', 'Jan Crusi...  \n",
              "18  ['Pedro C. Magalhães', 'Luís Aguiar-Conraria',...  \n",
              "25  ['Patrick Mineault', 'Carsen Stringer', 'Jorge...  \n",
              "26  ['Pavan Holur', 'David Chong', 'Timothy R. Tan...  \n",
              "29        ['Wanke Pan', 'Xiujuan Wen', 'Haiyang Jin']  \n",
              "30                      ['Nick Fox', 'Matt Williams']  \n",
              "31  ['Yufang Ruan', 'Adriel John Orena', 'Linda Po...  \n",
              "32                  ['Morgan Stosic', 'Mollie Ruben']  \n",
              "34  ['April Zeoli', 'Shannon Frattaroli', 'Marian ...  \n",
              "35                                  ['Daniel Kluger']  \n",
              "36                 ['Adrian Barnett', 'David N Borg']  \n",
              "38                                   ['TCU Hill Lab']  \n",
              "40  ['Joshua Borycz', 'Alexander J. Carroll', 'Hon...  \n",
              "41               ['Jessica K. Witt', 'Zachary  Labe']  \n",
              "43                                  ['Michael Kraus']  "
            ],
            "text/html": [
              "\n",
              "  <div id=\"df-46108fbe-3321-4483-bac5-ab11920aa9ea\">\n",
              "    <div class=\"colab-df-container\">\n",
              "      <div>\n",
              "<style scoped>\n",
              "    .dataframe tbody tr th:only-of-type {\n",
              "        vertical-align: middle;\n",
              "    }\n",
              "\n",
              "    .dataframe tbody tr th {\n",
              "        vertical-align: top;\n",
              "    }\n",
              "\n",
              "    .dataframe thead th {\n",
              "        text-align: right;\n",
              "    }\n",
              "</style>\n",
              "<table border=\"1\" class=\"dataframe\">\n",
              "  <thead>\n",
              "    <tr style=\"text-align: right;\">\n",
              "      <th></th>\n",
              "      <th>id</th>\n",
              "      <th>title</th>\n",
              "      <th>description</th>\n",
              "      <th>category</th>\n",
              "      <th>date_created</th>\n",
              "      <th>date_modified</th>\n",
              "      <th>Authors</th>\n",
              "    </tr>\n",
              "  </thead>\n",
              "  <tbody>\n",
              "    <tr>\n",
              "      <th>0</th>\n",
              "      <td>NaN</td>\n",
              "      <td>Twitter API v2 sampled stream</td>\n",
              "      <td>This repository stores the IDs from tweets del...</td>\n",
              "      <td>project</td>\n",
              "      <td>2022-03-23T09:33:39.350738</td>\n",
              "      <td>2023-05-21T02:15:00.468023</td>\n",
              "      <td>['Jana Lasser']</td>\n",
              "    </tr>\n",
              "    <tr>\n",
              "      <th>7</th>\n",
              "      <td>NaN</td>\n",
              "      <td>Patoloji Atlası</td>\n",
              "      <td>Patoloji Atlası</td>\n",
              "      <td>project</td>\n",
              "      <td>2022-03-24T12:59:29.116983</td>\n",
              "      <td>2023-05-20T19:08:49</td>\n",
              "      <td>['Serdar Balcı']</td>\n",
              "    </tr>\n",
              "    <tr>\n",
              "      <th>8</th>\n",
              "      <td>NaN</td>\n",
              "      <td>PhytoOracle</td>\n",
              "      <td>PhytoOracle is a suite of modular, scalable ph...</td>\n",
              "      <td>project</td>\n",
              "      <td>2022-03-30T17:31:06.766935</td>\n",
              "      <td>2023-05-20T18:46:29</td>\n",
              "      <td>['Emmanuel Miguel Gonzalez', 'Sebastian Callej...</td>\n",
              "    </tr>\n",
              "    <tr>\n",
              "      <th>13</th>\n",
              "      <td>NaN</td>\n",
              "      <td>foveated_metamers</td>\n",
              "      <td>Files corresponding to the Foveated Metamers r...</td>\n",
              "      <td>project</td>\n",
              "      <td>2019-11-15T19:26:40.145717</td>\n",
              "      <td>2023-05-20T15:14:46</td>\n",
              "      <td>['William Ferguson Broderick']</td>\n",
              "    </tr>\n",
              "    <tr>\n",
              "      <th>14</th>\n",
              "      <td>NaN</td>\n",
              "      <td>HICSS 2020</td>\n",
              "      <td>In for a Penny, in for a Pound? A Lifecycle Mo...</td>\n",
              "      <td>project</td>\n",
              "      <td>2019-08-23T07:41:13.716599</td>\n",
              "      <td>2023-05-20T15:00:24.622524</td>\n",
              "      <td>['Phil Hennel', 'Christoph Rosenkranz', 'Tim D...</td>\n",
              "    </tr>\n",
              "    <tr>\n",
              "      <th>15</th>\n",
              "      <td>NaN</td>\n",
              "      <td>Online Imitation-Inhibition Task</td>\n",
              "      <td>Code to run the imitation-inhibition task onli...</td>\n",
              "      <td>project</td>\n",
              "      <td>2020-03-31T14:28:57.666151</td>\n",
              "      <td>2023-05-20T14:59:51</td>\n",
              "      <td>['Mareike Westfal', 'Emiel Cracco', 'Jan Crusi...</td>\n",
              "    </tr>\n",
              "    <tr>\n",
              "      <th>18</th>\n",
              "      <td>NaN</td>\n",
              "      <td>Economic Forecasts and Executive Approval</td>\n",
              "      <td>The “objective” economy and how the media port...</td>\n",
              "      <td>project</td>\n",
              "      <td>2021-02-16T09:04:19.784232</td>\n",
              "      <td>2023-05-20T13:10:14.175218</td>\n",
              "      <td>['Pedro C. Magalhães', 'Luís Aguiar-Conraria',...</td>\n",
              "    </tr>\n",
              "    <tr>\n",
              "      <th>25</th>\n",
              "      <td>NaN</td>\n",
              "      <td>Neuromatch academy</td>\n",
              "      <td>Data store for neuromatch academy. Contains pr...</td>\n",
              "      <td>project</td>\n",
              "      <td>2020-06-05T22:56:39.602815</td>\n",
              "      <td>2023-05-20T06:02:11.458338</td>\n",
              "      <td>['Patrick Mineault', 'Carsen Stringer', 'Jorge...</td>\n",
              "    </tr>\n",
              "    <tr>\n",
              "      <th>26</th>\n",
              "      <td>NaN</td>\n",
              "      <td>My side, your side and the evidence: Discoveri...</td>\n",
              "      <td>Supplementary dataset and codebase for ACL 202...</td>\n",
              "      <td>project</td>\n",
              "      <td>2022-12-22T03:59:57.412520</td>\n",
              "      <td>2023-05-20T05:53:42.366173</td>\n",
              "      <td>['Pavan Holur', 'David Chong', 'Timothy R. Tan...</td>\n",
              "    </tr>\n",
              "    <tr>\n",
              "      <th>29</th>\n",
              "      <td>NaN</td>\n",
              "      <td>贝叶斯混合效应模型：基于brms的应用教程</td>\n",
              "      <td>贝叶斯混合效应模型在处理数据层级结构和提供更直观的统计结果等方面有着独特的优势。这些诸多优势...</td>\n",
              "      <td>project</td>\n",
              "      <td>2022-10-09T06:49:15.750215</td>\n",
              "      <td>2023-05-20T02:46:18</td>\n",
              "      <td>['Wanke Pan', 'Xiujuan Wen', 'Haiyang Jin']</td>\n",
              "    </tr>\n",
              "    <tr>\n",
              "      <th>30</th>\n",
              "      <td>NaN</td>\n",
              "      <td>Stress, anxiety and belief in conspiracy theories</td>\n",
              "      <td>This study aims to examine Swami et al.’s (201...</td>\n",
              "      <td>project</td>\n",
              "      <td>2021-07-20T23:08:27.759575</td>\n",
              "      <td>2023-05-20T02:17:53.056798</td>\n",
              "      <td>['Nick Fox', 'Matt Williams']</td>\n",
              "    </tr>\n",
              "    <tr>\n",
              "      <th>31</th>\n",
              "      <td>NaN</td>\n",
              "      <td>Comparing different measures of bilingual inpu...</td>\n",
              "      <td>Purpose: Measuring language input, especially ...</td>\n",
              "      <td>project</td>\n",
              "      <td>2022-07-25T19:39:46.559428</td>\n",
              "      <td>2023-05-20T02:05:59.076286</td>\n",
              "      <td>['Yufang Ruan', 'Adriel John Orena', 'Linda Po...</td>\n",
              "    </tr>\n",
              "    <tr>\n",
              "      <th>32</th>\n",
              "      <td>NaN</td>\n",
              "      <td>Spontaneous Behavioral Coordination: The Impac...</td>\n",
              "      <td>Some researchers have posited that while behav...</td>\n",
              "      <td>project</td>\n",
              "      <td>2022-09-30T22:38:20.905526</td>\n",
              "      <td>2023-05-20T00:07:30.659801</td>\n",
              "      <td>['Morgan Stosic', 'Mollie Ruben']</td>\n",
              "    </tr>\n",
              "    <tr>\n",
              "      <th>34</th>\n",
              "      <td>NaN</td>\n",
              "      <td>A Multi-State Evaluation of Extreme Risk Prote...</td>\n",
              "      <td>This study will examine extreme risk protectio...</td>\n",
              "      <td>project</td>\n",
              "      <td>2020-09-25T18:36:57.163556</td>\n",
              "      <td>2023-05-19T21:19:00.288185</td>\n",
              "      <td>['April Zeoli', 'Shannon Frattaroli', 'Marian ...</td>\n",
              "    </tr>\n",
              "    <tr>\n",
              "      <th>35</th>\n",
              "      <td>NaN</td>\n",
              "      <td>Respiration and (a)periodic dynamics</td>\n",
              "      <td>Code and underlying data to reproduce the main...</td>\n",
              "      <td>project</td>\n",
              "      <td>2022-12-30T11:40:50.004498</td>\n",
              "      <td>2023-05-19T20:54:44.218277</td>\n",
              "      <td>['Daniel Kluger']</td>\n",
              "    </tr>\n",
              "    <tr>\n",
              "      <th>36</th>\n",
              "      <td>NaN</td>\n",
              "      <td>A census of Research Integrity Advisors in Aus...</td>\n",
              "      <td>A national census of Research Integrity Adviso...</td>\n",
              "      <td>project</td>\n",
              "      <td>2022-10-04T03:41:52.496360</td>\n",
              "      <td>2023-05-19T20:41:44.539004</td>\n",
              "      <td>['Adrian Barnett', 'David N Borg']</td>\n",
              "    </tr>\n",
              "    <tr>\n",
              "      <th>38</th>\n",
              "      <td>NaN</td>\n",
              "      <td>Contraception Decision Aid Use and Patient Out...</td>\n",
              "      <td>Clinical trial testing the impact of a digital...</td>\n",
              "      <td>project</td>\n",
              "      <td>2022-01-03T21:05:01.798694</td>\n",
              "      <td>2023-05-19T20:18:09.526842</td>\n",
              "      <td>['TCU Hill Lab']</td>\n",
              "    </tr>\n",
              "    <tr>\n",
              "      <th>40</th>\n",
              "      <td>NaN</td>\n",
              "      <td>Vanderbilt Instruction Slides</td>\n",
              "      <td>Slides used for SEL research and course instru...</td>\n",
              "      <td>project</td>\n",
              "      <td>2022-08-09T22:56:47.623037</td>\n",
              "      <td>2023-05-19T20:07:10.311908</td>\n",
              "      <td>['Joshua Borycz', 'Alexander J. Carroll', 'Hon...</td>\n",
              "    </tr>\n",
              "    <tr>\n",
              "      <th>41</th>\n",
              "      <td>NaN</td>\n",
              "      <td>Visualizing Uncertainty in Hurricane Forecasts...</td>\n",
              "      <td>Accepted for publication in Weather, Climate, ...</td>\n",
              "      <td>project</td>\n",
              "      <td>2021-05-03T19:34:36.658678</td>\n",
              "      <td>2023-05-19T20:01:29.851071</td>\n",
              "      <td>['Jessica K. Witt', 'Zachary  Labe']</td>\n",
              "    </tr>\n",
              "    <tr>\n",
              "      <th>43</th>\n",
              "      <td>NaN</td>\n",
              "      <td>Reparations</td>\n",
              "      <td>The gist of this project is that we think Japa...</td>\n",
              "      <td>project</td>\n",
              "      <td>2022-06-29T17:15:20.832271</td>\n",
              "      <td>2023-05-19T19:00:02.139504</td>\n",
              "      <td>['Michael Kraus']</td>\n",
              "    </tr>\n",
              "  </tbody>\n",
              "</table>\n",
              "</div>\n",
              "      <button class=\"colab-df-convert\" onclick=\"convertToInteractive('df-46108fbe-3321-4483-bac5-ab11920aa9ea')\"\n",
              "              title=\"Convert this dataframe to an interactive table.\"\n",
              "              style=\"display:none;\">\n",
              "        \n",
              "  <svg xmlns=\"http://www.w3.org/2000/svg\" height=\"24px\"viewBox=\"0 0 24 24\"\n",
              "       width=\"24px\">\n",
              "    <path d=\"M0 0h24v24H0V0z\" fill=\"none\"/>\n",
              "    <path d=\"M18.56 5.44l.94 2.06.94-2.06 2.06-.94-2.06-.94-.94-2.06-.94 2.06-2.06.94zm-11 1L8.5 8.5l.94-2.06 2.06-.94-2.06-.94L8.5 2.5l-.94 2.06-2.06.94zm10 10l.94 2.06.94-2.06 2.06-.94-2.06-.94-.94-2.06-.94 2.06-2.06.94z\"/><path d=\"M17.41 7.96l-1.37-1.37c-.4-.4-.92-.59-1.43-.59-.52 0-1.04.2-1.43.59L10.3 9.45l-7.72 7.72c-.78.78-.78 2.05 0 2.83L4 21.41c.39.39.9.59 1.41.59.51 0 1.02-.2 1.41-.59l7.78-7.78 2.81-2.81c.8-.78.8-2.07 0-2.86zM5.41 20L4 18.59l7.72-7.72 1.47 1.35L5.41 20z\"/>\n",
              "  </svg>\n",
              "      </button>\n",
              "      \n",
              "  <style>\n",
              "    .colab-df-container {\n",
              "      display:flex;\n",
              "      flex-wrap:wrap;\n",
              "      gap: 12px;\n",
              "    }\n",
              "\n",
              "    .colab-df-convert {\n",
              "      background-color: #E8F0FE;\n",
              "      border: none;\n",
              "      border-radius: 50%;\n",
              "      cursor: pointer;\n",
              "      display: none;\n",
              "      fill: #1967D2;\n",
              "      height: 32px;\n",
              "      padding: 0 0 0 0;\n",
              "      width: 32px;\n",
              "    }\n",
              "\n",
              "    .colab-df-convert:hover {\n",
              "      background-color: #E2EBFA;\n",
              "      box-shadow: 0px 1px 2px rgba(60, 64, 67, 0.3), 0px 1px 3px 1px rgba(60, 64, 67, 0.15);\n",
              "      fill: #174EA6;\n",
              "    }\n",
              "\n",
              "    [theme=dark] .colab-df-convert {\n",
              "      background-color: #3B4455;\n",
              "      fill: #D2E3FC;\n",
              "    }\n",
              "\n",
              "    [theme=dark] .colab-df-convert:hover {\n",
              "      background-color: #434B5C;\n",
              "      box-shadow: 0px 1px 3px 1px rgba(0, 0, 0, 0.15);\n",
              "      filter: drop-shadow(0px 1px 2px rgba(0, 0, 0, 0.3));\n",
              "      fill: #FFFFFF;\n",
              "    }\n",
              "  </style>\n",
              "\n",
              "      <script>\n",
              "        const buttonEl =\n",
              "          document.querySelector('#df-46108fbe-3321-4483-bac5-ab11920aa9ea button.colab-df-convert');\n",
              "        buttonEl.style.display =\n",
              "          google.colab.kernel.accessAllowed ? 'block' : 'none';\n",
              "\n",
              "        async function convertToInteractive(key) {\n",
              "          const element = document.querySelector('#df-46108fbe-3321-4483-bac5-ab11920aa9ea');\n",
              "          const dataTable =\n",
              "            await google.colab.kernel.invokeFunction('convertToInteractive',\n",
              "                                                     [key], {});\n",
              "          if (!dataTable) return;\n",
              "\n",
              "          const docLinkHtml = 'Like what you see? Visit the ' +\n",
              "            '<a target=\"_blank\" href=https://colab.research.google.com/notebooks/data_table.ipynb>data table notebook</a>'\n",
              "            + ' to learn more about interactive tables.';\n",
              "          element.innerHTML = '';\n",
              "          dataTable['output_type'] = 'display_data';\n",
              "          await google.colab.output.renderOutput(dataTable, element);\n",
              "          const docLink = document.createElement('div');\n",
              "          docLink.innerHTML = docLinkHtml;\n",
              "          element.appendChild(docLink);\n",
              "        }\n",
              "      </script>\n",
              "    </div>\n",
              "  </div>\n",
              "  "
            ]
          },
          "metadata": {},
          "execution_count": 54
        }
      ]
    },
    {
      "cell_type": "code",
      "source": [
        "print(all_articles1[29]['attributes']['title'])\n",
        "print(all_articles1[29]['relationships']['contributors']['links']['related']['href'])"
      ],
      "metadata": {
        "colab": {
          "base_uri": "https://localhost:8080/"
        },
        "id": "L9maU4iTru6D",
        "outputId": "7c6d8ef8-5b78-46f0-82fa-c1526d50810b"
      },
      "execution_count": null,
      "outputs": [
        {
          "output_type": "stream",
          "name": "stdout",
          "text": [
            "贝叶斯混合效应模型：基于brms的应用教程\n",
            "https://api.osf.io/v2/nodes/cgxwn/contributors/\n"
          ]
        }
      ]
    },
    {
      "cell_type": "code",
      "source": [
        "main3 = main2.reset_index()"
      ],
      "metadata": {
        "id": "GxhwhX-gslea"
      },
      "execution_count": null,
      "outputs": []
    },
    {
      "cell_type": "code",
      "source": [
        "main3.description[15000]"
      ],
      "metadata": {
        "colab": {
          "base_uri": "https://localhost:8080/",
          "height": 53
        },
        "id": "5ZImFmJBs5jT",
        "outputId": "0f7c8495-02c1-4e45-fd72-b6e74aa6f62a"
      },
      "execution_count": null,
      "outputs": [
        {
          "output_type": "execute_result",
          "data": {
            "text/plain": [
              "'Raw data and R coding for experiments 1 and 2 of the flanker task in which we assess the role of semantic transparency in morphological processing'"
            ],
            "application/vnd.google.colaboratory.intrinsic+json": {
              "type": "string"
            }
          },
          "metadata": {},
          "execution_count": 66
        }
      ]
    },
    {
      "cell_type": "code",
      "source": [
        "all_articles1[0]"
      ],
      "metadata": {
        "colab": {
          "base_uri": "https://localhost:8080/"
        },
        "id": "j2uabxZqthcd",
        "outputId": "35645868-2f44-438f-c15a-30779df1d8c2"
      },
      "execution_count": null,
      "outputs": [
        {
          "output_type": "execute_result",
          "data": {
            "text/plain": [
              "{'id': 'dqx39',\n",
              " 'type': 'nodes',\n",
              " 'attributes': {'title': 'Twitter API v2 sampled stream',\n",
              "  'description': 'This repository stores the IDs from tweets delivered by the Twitter API v2 sampled stream endpoint. The sampled stream endpoint delivers a roughly 1% random sample of publicly available Tweets in real-time.',\n",
              "  'category': 'project',\n",
              "  'custom_citation': None,\n",
              "  'date_created': '2022-03-23T09:33:39.350738',\n",
              "  'date_modified': '2023-05-21T02:15:00.468023',\n",
              "  'registration': False,\n",
              "  'preprint': False,\n",
              "  'fork': False,\n",
              "  'collection': False,\n",
              "  'tags': [],\n",
              "  'access_requests_enabled': True,\n",
              "  'node_license': {'copyright_holders': [''], 'year': '2022'},\n",
              "  'analytics_key': 'd17def44147f09b1cd94f2d616f3ca143b58637c96caa580ff04a6996cb6a1c4a3c3476d98412439c3a12364353cc763a97c0b5edf3f6aabfd563c8217d68cbd3bbcd33f3444ce31fa4dd2f6f09c85580d4cf2f0f8acea75b19b3d8b8c5680fcebb5aa79a2f8f46590c3c241ce49fdead7b0bddceb2947ad06a6c7c24d820644b24bc43a1b013f64ddce1be79d8fd92c',\n",
              "  'current_user_can_comment': False,\n",
              "  'current_user_permissions': ['read'],\n",
              "  'current_user_is_contributor': False,\n",
              "  'current_user_is_contributor_or_group_member': False,\n",
              "  'wiki_enabled': True,\n",
              "  'public': True,\n",
              "  'subjects': []},\n",
              " 'relationships': {'license': {'links': {'related': {'href': 'https://api.osf.io/v2/licenses/563c1cf88c5e4a3877f9e96a/',\n",
              "     'meta': {}}},\n",
              "   'data': {'id': '563c1cf88c5e4a3877f9e96a', 'type': 'licenses'}},\n",
              "  'children': {'links': {'related': {'href': 'https://api.osf.io/v2/nodes/dqx39/children/',\n",
              "     'meta': {}}}},\n",
              "  'comments': {'links': {'related': {'href': 'https://api.osf.io/v2/nodes/dqx39/comments/?filter%5Btarget%5D=dqx39',\n",
              "     'meta': {}}}},\n",
              "  'contributors': {'links': {'related': {'href': 'https://api.osf.io/v2/nodes/dqx39/contributors/',\n",
              "     'meta': {}}}},\n",
              "  'bibliographic_contributors': {'links': {'related': {'href': 'https://api.osf.io/v2/nodes/dqx39/bibliographic_contributors/',\n",
              "     'meta': {}}}},\n",
              "  'implicit_contributors': {'links': {'related': {'href': 'https://api.osf.io/v2/nodes/dqx39/implicit_contributors/',\n",
              "     'meta': {}}}},\n",
              "  'files': {'links': {'related': {'href': 'https://api.osf.io/v2/nodes/dqx39/files/',\n",
              "     'meta': {}}}},\n",
              "  'settings': {'links': {'related': {'href': 'https://api.osf.io/v2/nodes/dqx39/settings/',\n",
              "     'meta': {}}},\n",
              "   'data': {'id': 'dqx39', 'type': 'node-setting'}},\n",
              "  'wikis': {'links': {'related': {'href': 'https://api.osf.io/v2/nodes/dqx39/wikis/',\n",
              "     'meta': {}}}},\n",
              "  'forks': {'links': {'related': {'href': 'https://api.osf.io/v2/nodes/dqx39/forks/',\n",
              "     'meta': {}}}},\n",
              "  'groups': {'links': {'related': {'href': 'https://api.osf.io/v2/nodes/dqx39/groups/',\n",
              "     'meta': {}}}},\n",
              "  'node_links': {'links': {'related': {'href': 'https://api.osf.io/v2/nodes/dqx39/node_links/',\n",
              "     'meta': {}}}},\n",
              "  'linked_by_nodes': {'links': {'related': {'href': 'https://api.osf.io/v2/nodes/dqx39/linked_by_nodes/',\n",
              "     'meta': {}}}},\n",
              "  'linked_by_registrations': {'links': {'related': {'href': 'https://api.osf.io/v2/nodes/dqx39/linked_by_registrations/',\n",
              "     'meta': {}}}},\n",
              "  'identifiers': {'links': {'related': {'href': 'https://api.osf.io/v2/nodes/dqx39/identifiers/',\n",
              "     'meta': {}}}},\n",
              "  'affiliated_institutions': {'links': {'related': {'href': 'https://api.osf.io/v2/nodes/dqx39/institutions/',\n",
              "     'meta': {}},\n",
              "    'self': {'href': 'https://api.osf.io/v2/nodes/dqx39/relationships/institutions/',\n",
              "     'meta': {}}}},\n",
              "  'draft_registrations': {'links': {'related': {'href': 'https://api.osf.io/v2/nodes/dqx39/draft_registrations/',\n",
              "     'meta': {}}}},\n",
              "  'registrations': {'links': {'related': {'href': 'https://api.osf.io/v2/nodes/dqx39/registrations/',\n",
              "     'meta': {}}}},\n",
              "  'region': {'links': {'related': {'href': 'https://api.osf.io/v2/regions/de-1/',\n",
              "     'meta': {}}},\n",
              "   'data': {'id': 'de-1', 'type': 'regions'}},\n",
              "  'root': {'links': {'related': {'href': 'https://api.osf.io/v2/nodes/dqx39/',\n",
              "     'meta': {}}},\n",
              "   'data': {'id': 'dqx39', 'type': 'nodes'}},\n",
              "  'logs': {'links': {'related': {'href': 'https://api.osf.io/v2/nodes/dqx39/logs/',\n",
              "     'meta': {}}}},\n",
              "  'linked_nodes': {'links': {'related': {'href': 'https://api.osf.io/v2/nodes/dqx39/linked_nodes/',\n",
              "     'meta': {}},\n",
              "    'self': {'href': 'https://api.osf.io/v2/nodes/dqx39/relationships/linked_nodes/',\n",
              "     'meta': {}}}},\n",
              "  'linked_registrations': {'links': {'related': {'href': 'https://api.osf.io/v2/nodes/dqx39/linked_registrations/',\n",
              "     'meta': {}},\n",
              "    'self': {'href': 'https://api.osf.io/v2/nodes/dqx39/relationships/linked_registrations/',\n",
              "     'meta': {}}}},\n",
              "  'view_only_links': {'links': {'related': {'href': 'https://api.osf.io/v2/nodes/dqx39/view_only_links/',\n",
              "     'meta': {}}}},\n",
              "  'citation': {'links': {'related': {'href': 'https://api.osf.io/v2/nodes/dqx39/citation/',\n",
              "     'meta': {}}},\n",
              "   'data': {'id': 'dqx39', 'type': 'nodes'}},\n",
              "  'preprints': {'links': {'related': {'href': 'https://api.osf.io/v2/nodes/dqx39/preprints/',\n",
              "     'meta': {}}}},\n",
              "  'storage': {'links': {'related': {'href': 'https://api.osf.io/v2/nodes/dqx39/storage/',\n",
              "     'meta': {}}},\n",
              "   'data': {'id': 'dqx39', 'type': 'node-storage'}}},\n",
              " 'links': {'html': 'https://osf.io/dqx39/',\n",
              "  'self': 'https://api.osf.io/v2/nodes/dqx39/'}}"
            ]
          },
          "metadata": {},
          "execution_count": 67
        }
      ]
    },
    {
      "cell_type": "code",
      "source": [
        "import requests\n",
        "import json\n",
        "\n",
        "# Set the search terms\n",
        "search_terms = [\"neuroscience\", \"brain\", \"nervous system\"]\n",
        "\n",
        "# Set the start and end dates\n",
        "start_date = \"2018-01-01\"\n",
        "end_date = \"2023-05-24\"\n",
        "\n",
        "# Construct the search URL\n",
        "search_url = \"https://pubmed.ncbi.nlm.nih.gov/?linkname=pubmed_pubmed_query&term=\" + \"+\".join(search_terms) + \"&datetype=medline&retmode=json&retmax=10000\"\n",
        "\n",
        "# Make the request\n",
        "response = requests.get(search_url)\n",
        "\n",
        "# Check the response status code\n",
        "if response.status_code == 200:\n",
        "\n",
        "    # Get the JSON response\n",
        "    response_json = json.loads(response.content)\n",
        "\n",
        "    # Extract the paper IDs\n",
        "    paper_ids = [paper[\"PMID\"] for paper in response_json[\"PubmedArticleSet\"][\"PubmedArticle\"]]\n",
        "\n",
        "    # Print the paper IDs\n",
        "    print(paper_ids)\n",
        "\n",
        "else:\n",
        "\n",
        "    print(\"Error: HTTP status code \" + str(response.status_code))\n"
      ],
      "metadata": {
        "id": "dLo1SyS9txvd",
        "colab": {
          "base_uri": "https://localhost:8080/"
        },
        "outputId": "244898e3-ab7f-42dc-f1a5-c914ad7a6a07"
      },
      "execution_count": 2,
      "outputs": [
        {
          "output_type": "stream",
          "name": "stdout",
          "text": [
            "Error: HTTP status code 500\n"
          ]
        }
      ]
    },
    {
      "cell_type": "code",
      "source": [],
      "metadata": {
        "id": "D_1J5I_FqttQ"
      },
      "execution_count": null,
      "outputs": []
    }
  ]
}