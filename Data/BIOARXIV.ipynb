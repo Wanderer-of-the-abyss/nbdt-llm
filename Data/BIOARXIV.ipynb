{
  "nbformat": 4,
  "nbformat_minor": 0,
  "metadata": {
    "colab": {
      "provenance": []
    },
    "kernelspec": {
      "name": "python3",
      "display_name": "Python 3"
    },
    "language_info": {
      "name": "python"
    }
  },
  "cells": [
    {
      "cell_type": "code",
      "execution_count": null,
      "metadata": {
        "id": "E45Pbh29dDLV"
      },
      "outputs": [],
      "source": [
        "import requests \n",
        "import json\n",
        "\n",
        "url = 'https://api.biorxiv.org/details/biorxiv/2019-01-01/2023-01-01/{}/json?category=neuroscience'\n",
        "articles1 = []\n",
        "cursor = 0\n",
        "count = 0\n",
        "while count < 100000:\n",
        "    results1 = requests.get(url.format(cursor)).json()\n",
        "    articles1 += results1['collection']\n",
        "    count += len(results1['collection'])\n",
        "    cursor += 100\n",
        "    print(f'Fetched {len(results1[\"collection\"])} articles. Total count: {count}')\n",
        "    \n",
        "with open('neuroscience_articles_2.json', 'w') as f:\n",
        "    json.dump(articles1, f)"
      ]
    },
    {
      "cell_type": "code",
      "source": [
        "import requests \n",
        "import json\n",
        "\n",
        "url = 'https://api.biorxiv.org/details/biorxiv/2019-01-01/2023-01-01/{}/json?category=neuroscience'\n",
        "articles1 = []\n",
        "cursor = 100000\n",
        "count = 100000\n",
        "while count < 190000:\n",
        "    results1 = requests.get(url.format(cursor)).json()\n",
        "    articles1 += results1['collection']\n",
        "    count += len(results1['collection'])\n",
        "    cursor += 100\n",
        "    print(f'Fetched {len(results1[\"collection\"])} articles. Total count: {count}')\n",
        "    \n",
        "with open('neuroscience_articles_3.json', 'w') as f:\n",
        "    json.dump(articles1, f)"
      ],
      "metadata": {
        "id": "h7BSTsOIdZY2"
      },
      "execution_count": null,
      "outputs": []
    },
    {
      "cell_type": "code",
      "source": [
        "import json\n",
        "\n",
        "# Just use the path to were the json is stored, in my case it is the below address.\n",
        "with open('neuroscience_articles_2.json', 'r') as f1:\n",
        "    data1 = json.load(f1)\n",
        "\n",
        "# Load the contents of the second file into a list\n",
        "with open('neuroscience_articles_3.json', 'r') as f2:\n",
        "    data2 = json.load(f2)\n",
        "\n",
        "# Concatenate the two lists\n",
        "data = data1 + data2\n",
        "\n",
        "# Write the concatenated data to a new file\n",
        "with open('corpus_1.json', 'w') as f:\n",
        "    json.dump(data, f)"
      ],
      "metadata": {
        "id": "mRl31MmYde56"
      },
      "execution_count": null,
      "outputs": []
    },
    {
      "cell_type": "code",
      "source": [
        "one = pd.read_json('concatenated.json')"
      ],
      "metadata": {
        "id": "rsRxouArfI7K"
      },
      "execution_count": null,
      "outputs": []
    },
    {
      "cell_type": "code",
      "source": [
        "neuro = one[three.category == 'neuroscience']"
      ],
      "metadata": {
        "id": "CEWCissOfBq9"
      },
      "execution_count": null,
      "outputs": []
    },
    {
      "cell_type": "code",
      "source": [
        "neuro.to_csv(\"combined_neuro.csv\", index = False)"
      ],
      "metadata": {
        "id": "P0ybW9hIfSV-"
      },
      "execution_count": null,
      "outputs": []
    }
  ]
}