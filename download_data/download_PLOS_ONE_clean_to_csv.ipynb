{
  "nbformat": 4,
  "nbformat_minor": 0,
  "metadata": {
    "colab": {
      "provenance": []
    },
    "kernelspec": {
      "name": "python3",
      "display_name": "Python 3"
    },
    "language_info": {
      "name": "python"
    }
  },
  "cells": [
    {
      "cell_type": "code",
      "execution_count": 21,
      "metadata": {
        "id": "_uCxo_wA17-O",
        "colab": {
          "base_uri": "https://localhost:8080/"
        },
        "outputId": "14ff0200-3cf1-4cd2-d782-ecdff0b1e823"
      },
      "outputs": [
        {
          "output_type": "stream",
          "name": "stdout",
          "text": [
            "Collected 14000 articles.\n"
          ]
        }
      ],
      "source": [
        "import requests\n",
        "import json\n",
        "\n",
        "articles = []  # Define an empty list to store the articles\n",
        "\n",
        "for i in range(0, 14000, 100):\n",
        "    # Define the query parameters\n",
        "    query = \"neuroscience\"\n",
        "    fields = \"title,author,abstract,journal,subject_facet\"\n",
        "    filter = \"publication_date:[2019-01-01T00:00:00Z TO 2023-12-31T23:59:59Z], subject_facet:“/Neuroscience/”\"\n",
        "    start = i\n",
        "    rows = 100\n",
        "\n",
        "    # Construct the query URL\n",
        "    url = f\"http://api.plos.org/search?q={query}&fl={fields}&fq={filter}&start={start}&rows={rows}\"\n",
        "\n",
        "    # Send the request and get the response\n",
        "    response = requests.get(url)\n",
        "\n",
        "    # Check if the response is successful\n",
        "    if response.status_code == 200:\n",
        "        # Parse the response as JSON\n",
        "        data = response.json()\n",
        "\n",
        "        # Append the articles from this page to the list\n",
        "        articles.extend(data['response']['docs'])\n",
        "\n",
        "    else:\n",
        "        # Print an error message\n",
        "        print(f\"Request failed with status code {response.status_code}\")\n",
        "\n",
        "# Print the total number of articles collected\n",
        "print(f\"Collected {len(articles)} articles.\")\n",
        "\n"
      ]
    },
    {
      "cell_type": "code",
      "source": [],
      "metadata": {
        "id": "2scNhw7H6yc2"
      },
      "execution_count": 21,
      "outputs": []
    },
    {
      "cell_type": "code",
      "source": [
        "import requests\n",
        "import json\n",
        "import csv\n",
        " \n",
        "with open(\"neuroscience_articles.csv\", mode=\"w\", newline=\"\") as file:\n",
        "        # Create a CSV writer\n",
        "        writer = csv.writer(file)\n",
        "        \n",
        "        # Write the header row\n",
        "        writer.writerow([\"Title\", \"Author\", \"Abstract\", \"Journal\", \"Subject\"])\n",
        "        \n",
        "        # Loop over the articles and write the data to the CSV file\n",
        "        for article in articles:\n",
        "            writer.writerow([\n",
        "                article.get(\"title\", \"\"),\n",
        "                article.get(\"author\", \"\"),\n",
        "                article.get(\"abstract\", \"\"),\n",
        "                article.get(\"journal\", \"\"),\n",
        "                article.get(\"subject_facet\", \"\")\n",
        "            ])\n",
        "        "
      ],
      "metadata": {
        "id": "O30f6xYj7Afh"
      },
      "execution_count": 22,
      "outputs": []
    },
    {
      "cell_type": "code",
      "source": [
        "import pandas as pd\n",
        "df = pd.read_csv(\"/content/neuroscience_articles.csv\")\n",
        "df.shape"
      ],
      "metadata": {
        "colab": {
          "base_uri": "https://localhost:8080/"
        },
        "id": "AprTwDkY_506",
        "outputId": "31a75235-72bf-4b0e-87f6-de4322a12f01"
      },
      "execution_count": 23,
      "outputs": [
        {
          "output_type": "execute_result",
          "data": {
            "text/plain": [
              "(14000, 5)"
            ]
          },
          "metadata": {},
          "execution_count": 23
        }
      ]
    },
    {
      "cell_type": "code",
      "source": [
        "df.head(5)"
      ],
      "metadata": {
        "colab": {
          "base_uri": "https://localhost:8080/",
          "height": 337
        },
        "id": "8I6BXNJoAlyP",
        "outputId": "c8ee63f0-c215-422f-a775-8cb67a40560d"
      },
      "execution_count": 24,
      "outputs": [
        {
          "output_type": "execute_result",
          "data": {
            "text/plain": [
              "                                               Title  \\\n",
              "0                           Think: Theory for Africa   \n",
              "1  Bridge to neuroscience workshop: An effective ...   \n",
              "2  The Human Brain Project—Synergy between neuros...   \n",
              "3  The effect of neuroscientific evidence on sent...   \n",
              "4  Identifying knowledge important to teach about...   \n",
              "\n",
              "                                              Author  \\\n",
              "0  ['Christopher B Currin', 'Phumlani N Khoza', '...   \n",
              "1  ['Alexandra Colón-Rodríguez', 'Chelsea T Tiern...   \n",
              "2  ['Katrin Amunts', 'Alois C Knoll', 'Thomas Lip...   \n",
              "3  ['Annalise Perricone', 'Arielle Baskin-Sommers...   \n",
              "4                   ['Pål Kvello', 'Niklas Gericke']   \n",
              "\n",
              "                                            Abstract  \\\n",
              "0                                               ['']   \n",
              "1  ['\\nNeuroscience as a discipline is rarely cov...   \n",
              "2  ['\\nThe Human Brain Project (HBP) is a Europea...   \n",
              "3  ['\\nNeuroscientific evidence is increasingly u...   \n",
              "4  ['\\nTeaching about the nervous system has beco...   \n",
              "\n",
              "                      Journal  \\\n",
              "0  PLOS Computational Biology   \n",
              "1                    PLOS ONE   \n",
              "2                PLOS Biology   \n",
              "3                    PLOS ONE   \n",
              "4                    PLOS ONE   \n",
              "\n",
              "                                             Subject  \n",
              "0  ['/Biology and life sciences/Computational bio...  \n",
              "1  ['/Biology and life sciences/Cell biology/Cell...  \n",
              "2  ['/Biology and life sciences/Computational bio...  \n",
              "3  ['/Biology and life sciences/Neuroscience', '/...  \n",
              "4  ['/Biology and life sciences/Anatomy/Nervous s...  "
            ],
            "text/html": [
              "\n",
              "  <div id=\"df-7be5196c-d312-448b-a94a-9b33560ed33f\">\n",
              "    <div class=\"colab-df-container\">\n",
              "      <div>\n",
              "<style scoped>\n",
              "    .dataframe tbody tr th:only-of-type {\n",
              "        vertical-align: middle;\n",
              "    }\n",
              "\n",
              "    .dataframe tbody tr th {\n",
              "        vertical-align: top;\n",
              "    }\n",
              "\n",
              "    .dataframe thead th {\n",
              "        text-align: right;\n",
              "    }\n",
              "</style>\n",
              "<table border=\"1\" class=\"dataframe\">\n",
              "  <thead>\n",
              "    <tr style=\"text-align: right;\">\n",
              "      <th></th>\n",
              "      <th>Title</th>\n",
              "      <th>Author</th>\n",
              "      <th>Abstract</th>\n",
              "      <th>Journal</th>\n",
              "      <th>Subject</th>\n",
              "    </tr>\n",
              "  </thead>\n",
              "  <tbody>\n",
              "    <tr>\n",
              "      <th>0</th>\n",
              "      <td>Think: Theory for Africa</td>\n",
              "      <td>['Christopher B Currin', 'Phumlani N Khoza', '...</td>\n",
              "      <td>['']</td>\n",
              "      <td>PLOS Computational Biology</td>\n",
              "      <td>['/Biology and life sciences/Computational bio...</td>\n",
              "    </tr>\n",
              "    <tr>\n",
              "      <th>1</th>\n",
              "      <td>Bridge to neuroscience workshop: An effective ...</td>\n",
              "      <td>['Alexandra Colón-Rodríguez', 'Chelsea T Tiern...</td>\n",
              "      <td>['\\nNeuroscience as a discipline is rarely cov...</td>\n",
              "      <td>PLOS ONE</td>\n",
              "      <td>['/Biology and life sciences/Cell biology/Cell...</td>\n",
              "    </tr>\n",
              "    <tr>\n",
              "      <th>2</th>\n",
              "      <td>The Human Brain Project—Synergy between neuros...</td>\n",
              "      <td>['Katrin Amunts', 'Alois C Knoll', 'Thomas Lip...</td>\n",
              "      <td>['\\nThe Human Brain Project (HBP) is a Europea...</td>\n",
              "      <td>PLOS Biology</td>\n",
              "      <td>['/Biology and life sciences/Computational bio...</td>\n",
              "    </tr>\n",
              "    <tr>\n",
              "      <th>3</th>\n",
              "      <td>The effect of neuroscientific evidence on sent...</td>\n",
              "      <td>['Annalise Perricone', 'Arielle Baskin-Sommers...</td>\n",
              "      <td>['\\nNeuroscientific evidence is increasingly u...</td>\n",
              "      <td>PLOS ONE</td>\n",
              "      <td>['/Biology and life sciences/Neuroscience', '/...</td>\n",
              "    </tr>\n",
              "    <tr>\n",
              "      <th>4</th>\n",
              "      <td>Identifying knowledge important to teach about...</td>\n",
              "      <td>['Pål Kvello', 'Niklas Gericke']</td>\n",
              "      <td>['\\nTeaching about the nervous system has beco...</td>\n",
              "      <td>PLOS ONE</td>\n",
              "      <td>['/Biology and life sciences/Anatomy/Nervous s...</td>\n",
              "    </tr>\n",
              "  </tbody>\n",
              "</table>\n",
              "</div>\n",
              "      <button class=\"colab-df-convert\" onclick=\"convertToInteractive('df-7be5196c-d312-448b-a94a-9b33560ed33f')\"\n",
              "              title=\"Convert this dataframe to an interactive table.\"\n",
              "              style=\"display:none;\">\n",
              "        \n",
              "  <svg xmlns=\"http://www.w3.org/2000/svg\" height=\"24px\"viewBox=\"0 0 24 24\"\n",
              "       width=\"24px\">\n",
              "    <path d=\"M0 0h24v24H0V0z\" fill=\"none\"/>\n",
              "    <path d=\"M18.56 5.44l.94 2.06.94-2.06 2.06-.94-2.06-.94-.94-2.06-.94 2.06-2.06.94zm-11 1L8.5 8.5l.94-2.06 2.06-.94-2.06-.94L8.5 2.5l-.94 2.06-2.06.94zm10 10l.94 2.06.94-2.06 2.06-.94-2.06-.94-.94-2.06-.94 2.06-2.06.94z\"/><path d=\"M17.41 7.96l-1.37-1.37c-.4-.4-.92-.59-1.43-.59-.52 0-1.04.2-1.43.59L10.3 9.45l-7.72 7.72c-.78.78-.78 2.05 0 2.83L4 21.41c.39.39.9.59 1.41.59.51 0 1.02-.2 1.41-.59l7.78-7.78 2.81-2.81c.8-.78.8-2.07 0-2.86zM5.41 20L4 18.59l7.72-7.72 1.47 1.35L5.41 20z\"/>\n",
              "  </svg>\n",
              "      </button>\n",
              "      \n",
              "  <style>\n",
              "    .colab-df-container {\n",
              "      display:flex;\n",
              "      flex-wrap:wrap;\n",
              "      gap: 12px;\n",
              "    }\n",
              "\n",
              "    .colab-df-convert {\n",
              "      background-color: #E8F0FE;\n",
              "      border: none;\n",
              "      border-radius: 50%;\n",
              "      cursor: pointer;\n",
              "      display: none;\n",
              "      fill: #1967D2;\n",
              "      height: 32px;\n",
              "      padding: 0 0 0 0;\n",
              "      width: 32px;\n",
              "    }\n",
              "\n",
              "    .colab-df-convert:hover {\n",
              "      background-color: #E2EBFA;\n",
              "      box-shadow: 0px 1px 2px rgba(60, 64, 67, 0.3), 0px 1px 3px 1px rgba(60, 64, 67, 0.15);\n",
              "      fill: #174EA6;\n",
              "    }\n",
              "\n",
              "    [theme=dark] .colab-df-convert {\n",
              "      background-color: #3B4455;\n",
              "      fill: #D2E3FC;\n",
              "    }\n",
              "\n",
              "    [theme=dark] .colab-df-convert:hover {\n",
              "      background-color: #434B5C;\n",
              "      box-shadow: 0px 1px 3px 1px rgba(0, 0, 0, 0.15);\n",
              "      filter: drop-shadow(0px 1px 2px rgba(0, 0, 0, 0.3));\n",
              "      fill: #FFFFFF;\n",
              "    }\n",
              "  </style>\n",
              "\n",
              "      <script>\n",
              "        const buttonEl =\n",
              "          document.querySelector('#df-7be5196c-d312-448b-a94a-9b33560ed33f button.colab-df-convert');\n",
              "        buttonEl.style.display =\n",
              "          google.colab.kernel.accessAllowed ? 'block' : 'none';\n",
              "\n",
              "        async function convertToInteractive(key) {\n",
              "          const element = document.querySelector('#df-7be5196c-d312-448b-a94a-9b33560ed33f');\n",
              "          const dataTable =\n",
              "            await google.colab.kernel.invokeFunction('convertToInteractive',\n",
              "                                                     [key], {});\n",
              "          if (!dataTable) return;\n",
              "\n",
              "          const docLinkHtml = 'Like what you see? Visit the ' +\n",
              "            '<a target=\"_blank\" href=https://colab.research.google.com/notebooks/data_table.ipynb>data table notebook</a>'\n",
              "            + ' to learn more about interactive tables.';\n",
              "          element.innerHTML = '';\n",
              "          dataTable['output_type'] = 'display_data';\n",
              "          await google.colab.output.renderOutput(dataTable, element);\n",
              "          const docLink = document.createElement('div');\n",
              "          docLink.innerHTML = docLinkHtml;\n",
              "          element.appendChild(docLink);\n",
              "        }\n",
              "      </script>\n",
              "    </div>\n",
              "  </div>\n",
              "  "
            ]
          },
          "metadata": {},
          "execution_count": 24
        }
      ]
    },
    {
      "cell_type": "code",
      "source": [
        "df.isnull().sum()"
      ],
      "metadata": {
        "colab": {
          "base_uri": "https://localhost:8080/"
        },
        "id": "EaHLLWsHAp5g",
        "outputId": "3d54a8b1-582c-42a1-f971-acb1a60b3c03"
      },
      "execution_count": 25,
      "outputs": [
        {
          "output_type": "execute_result",
          "data": {
            "text/plain": [
              "Title        0\n",
              "Author      31\n",
              "Abstract     0\n",
              "Journal      0\n",
              "Subject      0\n",
              "dtype: int64"
            ]
          },
          "metadata": {},
          "execution_count": 25
        }
      ]
    },
    {
      "cell_type": "code",
      "source": [
        "duplicates = df['Abstract'].duplicated().sum()\n",
        "\n",
        "print(f\"There are {duplicates} duplicated values in 'abstract' column.\")"
      ],
      "metadata": {
        "id": "DYq4Q87IAsbz",
        "colab": {
          "base_uri": "https://localhost:8080/"
        },
        "outputId": "e5adc45e-cba1-4eda-a1f8-7ea278ca1b7f"
      },
      "execution_count": 26,
      "outputs": [
        {
          "output_type": "stream",
          "name": "stdout",
          "text": [
            "There are 271 duplicated values in 'abstract' column.\n"
          ]
        }
      ]
    },
    {
      "cell_type": "code",
      "source": [
        "combined_neuro3 = df.drop_duplicates(subset=['Abstract'], keep='last')"
      ],
      "metadata": {
        "id": "2oc-3bw7nyCs"
      },
      "execution_count": 27,
      "outputs": []
    },
    {
      "cell_type": "code",
      "source": [
        "duplicates = combined_neuro3['Abstract'].duplicated().sum()\n",
        "\n",
        "print(f\"There are {duplicates} duplicated values in 'abstract' column.\")"
      ],
      "metadata": {
        "colab": {
          "base_uri": "https://localhost:8080/"
        },
        "id": "SI6MIzHEoFcu",
        "outputId": "d59fb651-5105-4366-9cff-6b86fc948fc2"
      },
      "execution_count": 30,
      "outputs": [
        {
          "output_type": "stream",
          "name": "stdout",
          "text": [
            "There are 0 duplicated values in 'abstract' column.\n"
          ]
        }
      ]
    },
    {
      "cell_type": "code",
      "source": [
        "combined_neuro3.reset_index(inplace=True)"
      ],
      "metadata": {
        "id": "3bH3O3ZGoJHP"
      },
      "execution_count": 29,
      "outputs": []
    },
    {
      "cell_type": "code",
      "source": [],
      "metadata": {
        "colab": {
          "base_uri": "https://localhost:8080/",
          "height": 140
        },
        "id": "IMhXqWftoYXk",
        "outputId": "f2e2d88a-15b7-41cc-b31f-b8acf51c2825"
      },
      "execution_count": 19,
      "outputs": [
        {
          "output_type": "execute_result",
          "data": {
            "text/plain": [
              "\"['/Biology and life sciences/Cell biology/Cell physiology/Cell polarity', '/Biology and life sciences/Cell biology/Cellular types/Animal cells/Neurons', '/Biology and life sciences/Cell biology/Cellular types/Animal cells/Neurons/Interneurons', '/Biology and life sciences/Cell biology/Cellular types/Animal cells/Neurons/Nerve fibers/Axons', '/Biology and life sciences/Cell biology/Cellular types/Animal cells/Neurons/Neuronal dendrites/Neurites', '/Biology and life sciences/Cell biology/Signal transduction/Axon guidance receptors', '/Biology and life sciences/Neuroscience/Cellular neuroscience/Axon guidance', '/Biology and life sciences/Neuroscience/Cellular neuroscience/Axon guidance/Axon guidance receptors', '/Biology and life sciences/Neuroscience/Cellular neuroscience/Axon guidance/Pioneer axons', '/Biology and life sciences/Neuroscience/Cellular neuroscience/Neurons', '/Biology and life sciences/Neuroscience/Cellular neuroscience/Neurons/Interneurons', '/Biology and life sciences/Neuroscience/Cellular neuroscience/Neurons/Nerve fibers/Axons', '/Biology and life sciences/Neuroscience/Cellular neuroscience/Neurons/Neuronal dendrites/Neurites', '/Biology and life sciences/Neuroscience/Developmental neuroscience/Axon guidance', '/Biology and life sciences/Neuroscience/Developmental neuroscience/Axon guidance/Axon guidance receptors', '/Biology and life sciences/Neuroscience/Developmental neuroscience/Axon guidance/Pioneer axons']\""
            ],
            "application/vnd.google.colaboratory.intrinsic+json": {
              "type": "string"
            }
          },
          "metadata": {},
          "execution_count": 19
        }
      ]
    },
    {
      "cell_type": "code",
      "source": [
        "combined_neuro3.to_csv('/content/drive/MyDrive/saved_models/combined_neuro3.csv', index=False)"
      ],
      "metadata": {
        "id": "-ZHreoTkogaS"
      },
      "execution_count": 31,
      "outputs": []
    },
    {
      "cell_type": "code",
      "source": [],
      "metadata": {
        "id": "BtNaKdF7pCsX"
      },
      "execution_count": null,
      "outputs": []
    }
  ]
}