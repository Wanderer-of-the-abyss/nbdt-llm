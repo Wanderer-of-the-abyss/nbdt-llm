{
  "nbformat": 4,
  "nbformat_minor": 0,
  "metadata": {
    "colab": {
      "provenance": []
    },
    "kernelspec": {
      "name": "python3",
      "display_name": "Python 3"
    },
    "language_info": {
      "name": "python"
    }
  },
  "cells": [
    {
      "cell_type": "code",
      "execution_count": 1,
      "metadata": {
        "id": "SRwCWsfGDUei"
      },
      "outputs": [],
      "source": [
        "import requests\n",
        "import json\n",
        "\n",
        "# Define the base URL for the OSF API\n",
        "base_url = \"https://api.osf.io/v2/nodes/?filter[category]=project&filter[preprint]=psyarxiv&filter[date_created][gte]=2019-01-01T00:00:00.000Z&filter[date_created][lt]=2023-01-01T00:00:00.000Z&page[size]=100\"\n",
        "\n",
        "\n",
        "# Define the parameters for filtering and pagination\n",
        "\n",
        "\n",
        "# Make a GET request to the /v2/preprints/ endpoint with the parameters\n",
        "response = requests.get(base_url)\n",
        "\n",
        "# Check if the request was successful\n",
        "if response.status_code == 200:\n",
        "    # Parse the JSON response\n",
        "    data = json.loads(response.text)\n",
        "    # Print some information about the response\n",
        "    \n",
        "else:\n",
        "    # Print an error message if the request failed\n",
        "    print(f\"Request failed with status code: {response.status_code}\")"
      ]
    },
    {
      "cell_type": "code",
      "source": [
        "data['links']"
      ],
      "metadata": {
        "colab": {
          "base_uri": "https://localhost:8080/"
        },
        "id": "2Z6tatfhHaA3",
        "outputId": "e80527f2-a278-452d-cc52-dd398d15bcd3"
      },
      "execution_count": 2,
      "outputs": [
        {
          "output_type": "execute_result",
          "data": {
            "text/plain": [
              "{'first': None,\n",
              " 'last': 'https://api.osf.io/v2/nodes/?filter%5Bcategory%5D=project&filter%5Bdate_created%5D%5Bgte%5D=2019-01-01T00%3A00%3A00.000Z&filter%5Bdate_created%5D%5Blt%5D=2023-01-01T00%3A00%3A00.000Z&filter%5Bpreprint%5D=psyarxiv&page=1192&page%5Bsize%5D=100',\n",
              " 'prev': None,\n",
              " 'next': 'https://api.osf.io/v2/nodes/?filter%5Bcategory%5D=project&filter%5Bdate_created%5D%5Bgte%5D=2019-01-01T00%3A00%3A00.000Z&filter%5Bdate_created%5D%5Blt%5D=2023-01-01T00%3A00%3A00.000Z&filter%5Bpreprint%5D=psyarxiv&page=2&page%5Bsize%5D=100',\n",
              " 'meta': {'total': 119180, 'per_page': 100}}"
            ]
          },
          "metadata": {},
          "execution_count": 2
        }
      ]
    },
    {
      "cell_type": "code",
      "source": [
        "\n",
        "for i in range(0, 10):\n",
        " for j in range(len(contributors_names[i]['data'])):\n",
        "   print(contributors_names[i]['data'][j]['embeds']['users']['data']['attributes']['full_name'])"
      ],
      "metadata": {
        "id": "GZ2CG9-wDyUY"
      },
      "execution_count": null,
      "outputs": []
    },
    {
      "cell_type": "code",
      "source": [
        "import requests\n",
        "import json\n",
        "\n",
        "# Define the base URL for the OSF API\n",
        "base_url = \"https://api.osf.io/v2/nodes/?filter[category]=project&filter[date_created][gte]=2019-01-01T00:00:00.000Z&filter[date_created][lt]=2023-01-01T00:00:00.000Z&filter[preprint]=psyarxiv&page[size]=100\"\n",
        "\n",
        "# Iterate over the pages\n",
        "for page in range(1, 1000):\n",
        "    # Create the URL for the current page\n",
        "    page_url = base_url + \"&page=\" + str(page)\n",
        "\n",
        "    # Make a GET request to the current page URL\n",
        "    response = requests.get(page_url)\n",
        "\n",
        "    # Check if the request was successful\n",
        "    if response.status_code == 200:\n",
        "        # Parse the JSON response of the current page\n",
        "        data = json.loads(response.text)\n",
        "\n",
        "        # Process the articles of the current page\n",
        "        articles = data['data']\n",
        "        # Do something with the articles..."
      ],
      "metadata": {
        "id": "vCUJJq04HsUf"
      },
      "execution_count": null,
      "outputs": []
    },
    {
      "cell_type": "code",
      "source": [
        "import requests\n",
        "import json\n",
        "\n",
        "# Define the base URL for the OSF API\n",
        "base_url = \"https://api.osf.io/v2/nodes/?filter[category]=project&filter[date_created][gte]=2019-01-01T00:00:00.000Z&filter[date_created][lt]=2023-01-01T00:00:00.000Z&filter[preprint]=psyarxiv&page[size]=100\"\n",
        "\n",
        "# Iterate over the pages\n",
        "for page in range(1, 10):\n",
        "    # Create the URL for the current page\n",
        "    page_url = base_url + \"&page=\" + str(page)\n",
        "\n",
        "    # Make a GET request to the current page URL\n",
        "    response = requests.get(page_url)\n",
        "\n",
        "    # Check if the request was successful\n",
        "    if response.status_code == 200:\n",
        "        # Parse the JSON response of the current page\n",
        "        data = json.loads(response.text)\n",
        "\n",
        "        # Process the articles of the current page\n",
        "        articles = data['data']\n",
        "        # Do something with the articles...\n",
        "\n",
        "        # Print the number of articles extracted in this iteration\n",
        "        num_articles = len(articles)\n",
        "        print(\"Number of articles extracted in iteration\", page, \":\", num_articles)\n",
        "\n",
        "    else:\n",
        "        # Print an error message if the request was not successful\n",
        "        print(\"Error: Failed to retrieve data from\", page_url)\n",
        "        break  # Exit the loop if there was an error\n"
      ],
      "metadata": {
        "colab": {
          "base_uri": "https://localhost:8080/"
        },
        "id": "LgSwL7x2MRq0",
        "outputId": "75454faa-bc06-4d6c-9d49-d1cf0aefe5fb"
      },
      "execution_count": 4,
      "outputs": [
        {
          "output_type": "stream",
          "name": "stdout",
          "text": [
            "Number of articles extracted in iteration 1 : 100\n",
            "Number of articles extracted in iteration 2 : 100\n",
            "Number of articles extracted in iteration 3 : 100\n",
            "Number of articles extracted in iteration 4 : 100\n",
            "Number of articles extracted in iteration 5 : 100\n",
            "Number of articles extracted in iteration 6 : 100\n",
            "Number of articles extracted in iteration 7 : 100\n",
            "Number of articles extracted in iteration 8 : 100\n",
            "Number of articles extracted in iteration 9 : 100\n"
          ]
        }
      ]
    },
    {
      "cell_type": "code",
      "source": [
        "import requests\n",
        "import json\n",
        "import csv\n",
        "\n",
        "fields = ['id', 'title', 'description', 'category', 'date_created', 'date_modified']\n",
        "\n",
        "# Create and open the CSV file in write mode\n",
        "with open('articles.csv', mode='w', newline='') as file:\n",
        "    writer = csv.DictWriter(file, fieldnames=fields)\n",
        "    \n",
        "    # Write the header row\n",
        "    writer.writeheader()\n",
        "    \n",
        "    # Write the data rows\n",
        "    for article in articles:\n",
        "        # Filter out attributes not present in the fields list\n",
        "        attributes = {k: v for k, v in article['attributes'].items() if k in fields}\n",
        "        writer.writerow(attributes)"
      ],
      "metadata": {
        "id": "cGPQHNNGMXDW"
      },
      "execution_count": 5,
      "outputs": []
    },
    {
      "cell_type": "code",
      "source": [
        "import pandas as pd\n",
        "df = pd.read_csv(\"/content/articles.csv\")\n",
        "df.shape"
      ],
      "metadata": {
        "colab": {
          "base_uri": "https://localhost:8080/"
        },
        "id": "wRf6H4LqUcrI",
        "outputId": "49a0c4aa-9f5b-4264-ea77-5e613bf766c5"
      },
      "execution_count": 7,
      "outputs": [
        {
          "output_type": "execute_result",
          "data": {
            "text/plain": [
              "(100, 6)"
            ]
          },
          "metadata": {},
          "execution_count": 7
        }
      ]
    },
    {
      "cell_type": "code",
      "source": [],
      "metadata": {
        "id": "9QmXww8HUlo3"
      },
      "execution_count": null,
      "outputs": []
    }
  ]
}